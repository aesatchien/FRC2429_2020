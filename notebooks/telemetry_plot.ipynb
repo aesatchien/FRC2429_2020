{
 "cells": [
  {
   "cell_type": "markdown",
   "metadata": {},
   "source": [
    "### Code to plot a telemetry profile (Beta!)\n",
    "#### 2021 01 20 CJH"
   ]
  },
  {
   "cell_type": "code",
   "execution_count": 110,
   "metadata": {},
   "outputs": [],
   "source": [
    "import sys\n",
    "import time\n",
    "from networktables import NetworkTables\n",
    "import pandas as pd\n",
    "import matplotlib.pyplot as plt\n",
    "import numpy as np\n",
    "import pickle"
   ]
  },
  {
   "cell_type": "code",
   "execution_count": 61,
   "metadata": {},
   "outputs": [
    {
     "data": {
      "text/plain": [
       "False"
      ]
     },
     "execution_count": 61,
     "metadata": {},
     "output_type": "execute_result"
    }
   ],
   "source": [
    "# ip = '172.22.11.2' # robot\n",
    "# ip = 'roboRIO-2429-FRC.local'\n",
    "ip = 'localhost'  # simulation\n",
    "NetworkTables.initialize(server=ip)"
   ]
  },
  {
   "cell_type": "code",
   "execution_count": 62,
   "metadata": {},
   "outputs": [],
   "source": [
    "def valueChanged(table, key, value, isNew):\n",
    "    print(\"valueChanged: key: '%s'; value: %s; isNew: %s\" % (key, value, isNew))\n",
    "def connectionListener(connected, info):\n",
    "    print(info, \"; Connected=%s\" % connected)"
   ]
  },
  {
   "cell_type": "code",
   "execution_count": 63,
   "metadata": {},
   "outputs": [
    {
     "name": "stdout",
     "output_type": "stream",
     "text": [
      "ConnectionInfo(remote_id='Robot', remote_ip='localhost', remote_port=1735, last_update=358390.984, protocol_version=768) ; Connected=True\n"
     ]
    }
   ],
   "source": [
    "NetworkTables.addConnectionListener(connectionListener, immediateNotify=True)"
   ]
  },
  {
   "cell_type": "code",
   "execution_count": 6,
   "metadata": {},
   "outputs": [],
   "source": [
    "sd = NetworkTables.getTable(\"SmartDashboard\")"
   ]
  },
  {
   "cell_type": "code",
   "execution_count": 31,
   "metadata": {},
   "outputs": [
    {
     "name": "stdout",
     "output_type": "stream",
     "text": [
      "Example: X: +2.15  Y: +5.91  Rot: +83.29\n",
      "x:+2.15 y:+5.91 rot:+83.29 \n"
     ]
    }
   ],
   "source": [
    "example = sd.getString('Odometry',0)\n",
    "print(f'Example: {example}\\nx:{example[3:8]} y:{example[13:18]} rot:{example[25:31]} ')"
   ]
  },
  {
   "cell_type": "code",
   "execution_count": null,
   "metadata": {},
   "outputs": [],
   "source": [
    "odometry_list = sd.getStringArray('Odometry_List',0)"
   ]
  },
  {
   "cell_type": "code",
   "execution_count": 90,
   "metadata": {},
   "outputs": [],
   "source": [
    "x = [float(i[3:8]) for i in odometry_list]\n",
    "y = [float(i[13:18]) for i in odometry_list]\n",
    "rot = [float(i[25:31]) for i in odometry_list]\n",
    "df = pd.DataFrame({'x':x, 'y':y, 'rotation':rot})"
   ]
  },
  {
   "cell_type": "code",
   "execution_count": 6,
   "metadata": {},
   "outputs": [
    {
     "name": "stdout",
     "output_type": "stream",
     "text": [
      "ConnectionInfo(remote_id='Robot', remote_ip='roboRIO-2429-FRC.local', remote_port=1735, last_update=0, protocol_version=768) ; Connected=True\n"
     ]
    }
   ],
   "source": [
    "def get_data():\n",
    "    # this was a lot simpler but stupid network tables can only take 256 values per array\n",
    "        odometry_list = sd.getStringArray('Odometry_List',0)\n",
    "        x = [float(i[3:8]) for i in odometry_list]\n",
    "        y = [float(i[13:18]) for i in odometry_list]\n",
    "        rot = [float(i[25:31]) for i in odometry_list]\n",
    "        df = pd.DataFrame({'x':x, 'y':y, 'rotation':rot})\n",
    "    return df"
   ]
  },
  {
   "cell_type": "code",
   "execution_count": 102,
   "metadata": {},
   "outputs": [
    {
     "data": {
      "text/html": [
       "<div>\n",
       "<style scoped>\n",
       "    .dataframe tbody tr th:only-of-type {\n",
       "        vertical-align: middle;\n",
       "    }\n",
       "\n",
       "    .dataframe tbody tr th {\n",
       "        vertical-align: top;\n",
       "    }\n",
       "\n",
       "    .dataframe thead th {\n",
       "        text-align: right;\n",
       "    }\n",
       "</style>\n",
       "<table border=\"1\" class=\"dataframe\">\n",
       "  <thead>\n",
       "    <tr style=\"text-align: right;\">\n",
       "      <th></th>\n",
       "      <th>x</th>\n",
       "      <th>y</th>\n",
       "      <th>rotation</th>\n",
       "    </tr>\n",
       "  </thead>\n",
       "  <tbody>\n",
       "    <tr>\n",
       "      <th>0</th>\n",
       "      <td>7.36</td>\n",
       "      <td>2.37</td>\n",
       "      <td>-103.20</td>\n",
       "    </tr>\n",
       "    <tr>\n",
       "      <th>20</th>\n",
       "      <td>10.80</td>\n",
       "      <td>0.30</td>\n",
       "      <td>-15.30</td>\n",
       "    </tr>\n",
       "    <tr>\n",
       "      <th>40</th>\n",
       "      <td>13.30</td>\n",
       "      <td>2.60</td>\n",
       "      <td>153.00</td>\n",
       "    </tr>\n",
       "    <tr>\n",
       "      <th>60</th>\n",
       "      <td>13.40</td>\n",
       "      <td>1.00</td>\n",
       "      <td>5.34</td>\n",
       "    </tr>\n",
       "    <tr>\n",
       "      <th>80</th>\n",
       "      <td>14.20</td>\n",
       "      <td>5.40</td>\n",
       "      <td>92.30</td>\n",
       "    </tr>\n",
       "    <tr>\n",
       "      <th>100</th>\n",
       "      <td>11.70</td>\n",
       "      <td>6.90</td>\n",
       "      <td>-177.00</td>\n",
       "    </tr>\n",
       "    <tr>\n",
       "      <th>120</th>\n",
       "      <td>6.17</td>\n",
       "      <td>7.35</td>\n",
       "      <td>-154.80</td>\n",
       "    </tr>\n",
       "    <tr>\n",
       "      <th>140</th>\n",
       "      <td>0.96</td>\n",
       "      <td>6.32</td>\n",
       "      <td>-126.10</td>\n",
       "    </tr>\n",
       "    <tr>\n",
       "      <th>160</th>\n",
       "      <td>3.59</td>\n",
       "      <td>4.65</td>\n",
       "      <td>-142.60</td>\n",
       "    </tr>\n",
       "    <tr>\n",
       "      <th>180</th>\n",
       "      <td>2.60</td>\n",
       "      <td>3.25</td>\n",
       "      <td>-15.76</td>\n",
       "    </tr>\n",
       "    <tr>\n",
       "      <th>200</th>\n",
       "      <td>7.44</td>\n",
       "      <td>3.88</td>\n",
       "      <td>11.39</td>\n",
       "    </tr>\n",
       "    <tr>\n",
       "      <th>220</th>\n",
       "      <td>7.46</td>\n",
       "      <td>3.88</td>\n",
       "      <td>11.39</td>\n",
       "    </tr>\n",
       "    <tr>\n",
       "      <th>240</th>\n",
       "      <td>7.46</td>\n",
       "      <td>3.88</td>\n",
       "      <td>172.60</td>\n",
       "    </tr>\n",
       "  </tbody>\n",
       "</table>\n",
       "</div>"
      ],
      "text/plain": [
       "         x     y  rotation\n",
       "0     7.36  2.37   -103.20\n",
       "20   10.80  0.30    -15.30\n",
       "40   13.30  2.60    153.00\n",
       "60   13.40  1.00      5.34\n",
       "80   14.20  5.40     92.30\n",
       "100  11.70  6.90   -177.00\n",
       "120   6.17  7.35   -154.80\n",
       "140   0.96  6.32   -126.10\n",
       "160   3.59  4.65   -142.60\n",
       "180   2.60  3.25    -15.76\n",
       "200   7.44  3.88     11.39\n",
       "220   7.46  3.88     11.39\n",
       "240   7.46  3.88    172.60"
      ]
     },
     "execution_count": 102,
     "metadata": {},
     "output_type": "execute_result"
    }
   ],
   "source": [
    "df[(df.index) % 20 == 0]"
   ]
  },
  {
   "cell_type": "code",
   "execution_count": 177,
   "metadata": {},
   "outputs": [],
   "source": [
    "def plot_df(df):\n",
    "# multiple line plot\n",
    "    save = False\n",
    "    markersize = 3\n",
    "    linewidth = 1.2\n",
    "    label = \"Mapping Odometry from Robot\"\n",
    "    ax = df.plot.scatter(x='x', y='y',c='rotation', colormap='viridis', figsize=(16,10))\n",
    "    #plt.legend()\n",
    "    #plt.legend(loc='center left', bbox_to_anchor=(1, 0.5))\n",
    "    ax.set_title(label, fontsize=16)\n",
    "    ax.set_ylabel('y position on field', fontsize = 16)\n",
    "    ax.set_xlabel('x position on field', fontsize = 16)\n",
    "    if save:\n",
    "        plt.ioff()\n",
    "        plt.savefig(fname)\n",
    "        plt.close()\n",
    "    plt.tight_layout()\n",
    "    plt.show()\n"
   ]
  },
  {
   "cell_type": "code",
   "execution_count": 178,
   "metadata": {},
   "outputs": [
    {
     "data": {
      "image/png": "[encoded data removed]",
      "text/plain": [
       "<Figure size 1152x720 with 2 Axes>"
      ]
     },
     "metadata": {
      "needs_background": "light"
     },
     "output_type": "display_data"
    }
   ],
   "source": [
    "plot_df(df)"
   ]
  },
  {
   "cell_type": "code",
   "execution_count": null,
   "metadata": {},
   "outputs": [],
   "source": []
  },
  {
   "cell_type": "markdown",
   "metadata": {},
   "source": [
    "---\n",
    "#### Pickle the data if desired (write python data to file for later use)"
   ]
  },
  {
   "cell_type": "code",
   "execution_count": 116,
   "metadata": {},
   "outputs": [],
   "source": [
    "from datetime import datetime\n",
    "time_stamp = datetime.now().strftime(\"%Y%m%d_%H%M%S\")\n",
    "pickle_dir = r'.\\pickle'\n",
    "outfile = pickle_dir + '\\\\' + time_stamp +'.pkl'\n",
    "with open(outfile, 'wb') as fp:\n",
    "    pickle.dump(df, fp)"
   ]
  },
  {
   "cell_type": "markdown",
   "metadata": {},
   "source": [
    "#### load data from pickle"
   ]
  },
  {
   "cell_type": "code",
   "execution_count": 118,
   "metadata": {},
   "outputs": [
    {
     "data": {
      "text/plain": [
       "['.\\\\pickle\\\\20210120_144817.pkl', '.\\\\pickle\\\\20210120_144951.pkl']"
      ]
     },
     "execution_count": 118,
     "metadata": {},
     "output_type": "execute_result"
    }
   ],
   "source": [
    "# get a list of all the files \n",
    "import glob\n",
    "pickle_dir = r'.\\pickle'\n",
    "files = glob.glob(pickle_dir+ '\\*')\n",
    "files"
   ]
  },
  {
   "cell_type": "code",
   "execution_count": 119,
   "metadata": {},
   "outputs": [],
   "source": [
    "infile = files[-1]\n",
    "try:\n",
    "    with open(infile, 'rb') as fp:\n",
    "        df = pickle.load(fp)\n",
    "except ValueError as e:\n",
    "    print(f'Missing df in pickle {infile}, please create it and re-pickle')"
   ]
  },
  {
   "cell_type": "code",
   "execution_count": 121,
   "metadata": {},
   "outputs": [
    {
     "data": {
      "text/html": [
       "<div>\n",
       "<style scoped>\n",
       "    .dataframe tbody tr th:only-of-type {\n",
       "        vertical-align: middle;\n",
       "    }\n",
       "\n",
       "    .dataframe tbody tr th {\n",
       "        vertical-align: top;\n",
       "    }\n",
       "\n",
       "    .dataframe thead th {\n",
       "        text-align: right;\n",
       "    }\n",
       "</style>\n",
       "<table border=\"1\" class=\"dataframe\">\n",
       "  <thead>\n",
       "    <tr style=\"text-align: right;\">\n",
       "      <th></th>\n",
       "      <th>x</th>\n",
       "      <th>y</th>\n",
       "      <th>rotation</th>\n",
       "    </tr>\n",
       "  </thead>\n",
       "  <tbody>\n",
       "    <tr>\n",
       "      <th>0</th>\n",
       "      <td>7.36</td>\n",
       "      <td>2.37</td>\n",
       "      <td>-103.20</td>\n",
       "    </tr>\n",
       "    <tr>\n",
       "      <th>20</th>\n",
       "      <td>10.80</td>\n",
       "      <td>0.30</td>\n",
       "      <td>-15.30</td>\n",
       "    </tr>\n",
       "    <tr>\n",
       "      <th>40</th>\n",
       "      <td>13.30</td>\n",
       "      <td>2.60</td>\n",
       "      <td>153.00</td>\n",
       "    </tr>\n",
       "    <tr>\n",
       "      <th>60</th>\n",
       "      <td>13.40</td>\n",
       "      <td>1.00</td>\n",
       "      <td>5.34</td>\n",
       "    </tr>\n",
       "    <tr>\n",
       "      <th>80</th>\n",
       "      <td>14.20</td>\n",
       "      <td>5.40</td>\n",
       "      <td>92.30</td>\n",
       "    </tr>\n",
       "    <tr>\n",
       "      <th>100</th>\n",
       "      <td>11.70</td>\n",
       "      <td>6.90</td>\n",
       "      <td>-177.00</td>\n",
       "    </tr>\n",
       "    <tr>\n",
       "      <th>120</th>\n",
       "      <td>6.17</td>\n",
       "      <td>7.35</td>\n",
       "      <td>-154.80</td>\n",
       "    </tr>\n",
       "    <tr>\n",
       "      <th>140</th>\n",
       "      <td>0.96</td>\n",
       "      <td>6.32</td>\n",
       "      <td>-126.10</td>\n",
       "    </tr>\n",
       "    <tr>\n",
       "      <th>160</th>\n",
       "      <td>3.59</td>\n",
       "      <td>4.65</td>\n",
       "      <td>-142.60</td>\n",
       "    </tr>\n",
       "    <tr>\n",
       "      <th>180</th>\n",
       "      <td>2.60</td>\n",
       "      <td>3.25</td>\n",
       "      <td>-15.76</td>\n",
       "    </tr>\n",
       "    <tr>\n",
       "      <th>200</th>\n",
       "      <td>7.44</td>\n",
       "      <td>3.88</td>\n",
       "      <td>11.39</td>\n",
       "    </tr>\n",
       "    <tr>\n",
       "      <th>220</th>\n",
       "      <td>7.46</td>\n",
       "      <td>3.88</td>\n",
       "      <td>11.39</td>\n",
       "    </tr>\n",
       "    <tr>\n",
       "      <th>240</th>\n",
       "      <td>7.46</td>\n",
       "      <td>3.88</td>\n",
       "      <td>172.60</td>\n",
       "    </tr>\n",
       "  </tbody>\n",
       "</table>\n",
       "</div>"
      ],
      "text/plain": [
       "         x     y  rotation\n",
       "0     7.36  2.37   -103.20\n",
       "20   10.80  0.30    -15.30\n",
       "40   13.30  2.60    153.00\n",
       "60   13.40  1.00      5.34\n",
       "80   14.20  5.40     92.30\n",
       "100  11.70  6.90   -177.00\n",
       "120   6.17  7.35   -154.80\n",
       "140   0.96  6.32   -126.10\n",
       "160   3.59  4.65   -142.60\n",
       "180   2.60  3.25    -15.76\n",
       "200   7.44  3.88     11.39\n",
       "220   7.46  3.88     11.39\n",
       "240   7.46  3.88    172.60"
      ]
     },
     "execution_count": 121,
     "metadata": {},
     "output_type": "execute_result"
    }
   ],
   "source": [
    "df[(df.index) % 20 == 0]"
   ]
  },
  {
   "cell_type": "code",
   "execution_count": null,
   "metadata": {},
   "outputs": [],
   "source": []
  }
 ],
 "metadata": {
  "kernelspec": {
   "display_name": "Python 3",
   "language": "python",
   "name": "python3"
  },
  "language_info": {
   "codemirror_mode": {
    "name": "ipython",
    "version": 3
   },
   "file_extension": ".py",
   "mimetype": "text/x-python",
   "name": "python",
   "nbconvert_exporter": "python",
   "pygments_lexer": "ipython3",
   "version": "3.7.4"
  }
 },
 "nbformat": 4,
 "nbformat_minor": 4
}
