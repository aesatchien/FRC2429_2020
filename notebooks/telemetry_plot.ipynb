{
 "cells": [
  {
   "cell_type": "markdown",
   "metadata": {},
   "source": [
    "### Code to plot a telemetry profile (Beta!)\n",
    "#### 2021 01 20 CJH"
   ]
  },
  {
   "cell_type": "code",
   "execution_count": 110,
   "metadata": {},
   "outputs": [],
   "source": [
    "from networktables import NetworkTables\n",
    "import pandas as pd\n",
    "import matplotlib.pyplot as plt\n",
    "import numpy as np\n",
    "import pickle"
   ]
  },
  {
   "cell_type": "markdown",
   "metadata": {},
   "source": [
    "#### choose the address of the network tables server"
   ]
  },
  {
   "cell_type": "code",
   "execution_count": 61,
   "metadata": {},
   "outputs": [
    {
     "data": {
      "text/plain": [
       "False"
      ]
     },
     "execution_count": 61,
     "metadata": {},
     "output_type": "execute_result"
    }
   ],
   "source": [
    "# ip = '172.22.11.2' # robot\n",
    "# ip = 'roboRIO-2429-FRC.local'\n",
    "ip = 'localhost'  # simulation\n",
    "NetworkTables.initialize(server=ip)"
   ]
  },
  {
   "cell_type": "code",
   "execution_count": 63,
   "metadata": {},
   "outputs": [
    {
     "name": "stdout",
     "output_type": "stream",
     "text": [
      "ConnectionInfo(remote_id='Robot', remote_ip='localhost', remote_port=1735, last_update=358390.984, protocol_version=768) ; Connected=True\n"
     ]
    }
   ],
   "source": [
    "NetworkTables.addConnectionListener(connectionListener, immediateNotify=True)"
   ]
  },
  {
   "cell_type": "markdown",
   "metadata": {},
   "source": [
    "#### get the SmartDashboard table from the network tables server so we can query it"
   ]
  },
  {
   "cell_type": "code",
   "execution_count": 6,
   "metadata": {},
   "outputs": [],
   "source": [
    "sd = NetworkTables.getTable(\"SmartDashboard\")"
   ]
  },
  {
   "cell_type": "markdown",
   "metadata": {},
   "source": [
    "#### get the odometry entries - currently set up as a list of 256 strings due to the limitations of what you can store in network tables "
   ]
  },
  {
   "cell_type": "code",
   "execution_count": 31,
   "metadata": {},
   "outputs": [
    {
     "name": "stdout",
     "output_type": "stream",
     "text": [
      "Example: X: +2.15  Y: +5.91  Rot: +83.29\n",
      "x:+2.15 y:+5.91 rot:+83.29 \n"
     ]
    }
   ],
   "source": [
    "example = sd.getString('Odometry',0)\n",
    "print(f'Example: {example}\\nx:{example[3:8]} y:{example[13:18]} rot:{example[25:31]} ')"
   ]
  },
  {
   "cell_type": "code",
   "execution_count": null,
   "metadata": {},
   "outputs": [],
   "source": [
    "odometry_list = sd.getStringArray('Odometry_List',0)"
   ]
  },
  {
   "cell_type": "markdown",
   "metadata": {},
   "source": [
    "### python is a high level language!\n",
    "* list comprehension does for loops in one line\n",
    "* pandas makes a great table (called dataframes) from a dictionary (or lists if you provide the column names)"
   ]
  },
  {
   "cell_type": "code",
   "execution_count": 90,
   "metadata": {},
   "outputs": [],
   "source": [
    "x = [float(i[3:8]) for i in odometry_list]\n",
    "y = [float(i[13:18]) for i in odometry_list]\n",
    "rot = [float(i[25:31]) for i in odometry_list]\n",
    "df = pd.DataFrame({'x':x, 'y':y, 'rotation':rot})"
   ]
  },
  {
   "cell_type": "code",
   "execution_count": 6,
   "metadata": {},
   "outputs": [
    {
     "name": "stdout",
     "output_type": "stream",
     "text": [
      "ConnectionInfo(remote_id='Robot', remote_ip='roboRIO-2429-FRC.local', remote_port=1735, last_update=0, protocol_version=768) ; Connected=True\n"
     ]
    }
   ],
   "source": [
    "def get_data():\n",
    "    # this was a lot simpler but stupid network tables can only take 256 values per array\n",
    "        odometry_list = sd.getStringArray('Odometry_List',0)\n",
    "        x = [float(i[3:8]) for i in odometry_list]\n",
    "        y = [float(i[13:18]) for i in odometry_list]\n",
    "        rot = [float(i[25:31]) for i in odometry_list]\n",
    "        df = pd.DataFrame({'x':x, 'y':y, 'rotation':rot})\n",
    "    return df"
   ]
  },
  {
   "cell_type": "markdown",
   "metadata": {},
   "source": [
    "#### take a quick look at the pandas datatable from the odometry"
   ]
  },
  {
   "cell_type": "code",
   "execution_count": 214,
   "metadata": {},
   "outputs": [
    {
     "data": {
      "text/html": [
       "<div>\n",
       "<style scoped>\n",
       "    .dataframe tbody tr th:only-of-type {\n",
       "        vertical-align: middle;\n",
       "    }\n",
       "\n",
       "    .dataframe tbody tr th {\n",
       "        vertical-align: top;\n",
       "    }\n",
       "\n",
       "    .dataframe thead th {\n",
       "        text-align: right;\n",
       "    }\n",
       "</style>\n",
       "<table border=\"1\" class=\"dataframe\">\n",
       "  <thead>\n",
       "    <tr style=\"text-align: right;\">\n",
       "      <th></th>\n",
       "      <th>x</th>\n",
       "      <th>y</th>\n",
       "      <th>rotation</th>\n",
       "      <th>delta</th>\n",
       "    </tr>\n",
       "  </thead>\n",
       "  <tbody>\n",
       "    <tr>\n",
       "      <th>0</th>\n",
       "      <td>7.36</td>\n",
       "      <td>2.37</td>\n",
       "      <td>-103.20</td>\n",
       "      <td>NaN</td>\n",
       "    </tr>\n",
       "    <tr>\n",
       "      <th>20</th>\n",
       "      <td>10.80</td>\n",
       "      <td>0.30</td>\n",
       "      <td>-15.30</td>\n",
       "      <td>0.316228</td>\n",
       "    </tr>\n",
       "    <tr>\n",
       "      <th>40</th>\n",
       "      <td>13.30</td>\n",
       "      <td>2.60</td>\n",
       "      <td>153.00</td>\n",
       "      <td>0.223607</td>\n",
       "    </tr>\n",
       "    <tr>\n",
       "      <th>60</th>\n",
       "      <td>13.40</td>\n",
       "      <td>1.00</td>\n",
       "      <td>5.34</td>\n",
       "      <td>0.300000</td>\n",
       "    </tr>\n",
       "    <tr>\n",
       "      <th>80</th>\n",
       "      <td>14.20</td>\n",
       "      <td>5.40</td>\n",
       "      <td>92.30</td>\n",
       "      <td>0.300000</td>\n",
       "    </tr>\n",
       "    <tr>\n",
       "      <th>100</th>\n",
       "      <td>11.70</td>\n",
       "      <td>6.90</td>\n",
       "      <td>-177.00</td>\n",
       "      <td>0.316228</td>\n",
       "    </tr>\n",
       "    <tr>\n",
       "      <th>120</th>\n",
       "      <td>6.17</td>\n",
       "      <td>7.35</td>\n",
       "      <td>-154.80</td>\n",
       "      <td>0.282312</td>\n",
       "    </tr>\n",
       "    <tr>\n",
       "      <th>140</th>\n",
       "      <td>0.96</td>\n",
       "      <td>6.32</td>\n",
       "      <td>-126.10</td>\n",
       "      <td>0.212603</td>\n",
       "    </tr>\n",
       "    <tr>\n",
       "      <th>160</th>\n",
       "      <td>3.59</td>\n",
       "      <td>4.65</td>\n",
       "      <td>-142.60</td>\n",
       "      <td>0.205183</td>\n",
       "    </tr>\n",
       "    <tr>\n",
       "      <th>180</th>\n",
       "      <td>2.60</td>\n",
       "      <td>3.25</td>\n",
       "      <td>-15.76</td>\n",
       "      <td>0.291204</td>\n",
       "    </tr>\n",
       "    <tr>\n",
       "      <th>200</th>\n",
       "      <td>7.44</td>\n",
       "      <td>3.88</td>\n",
       "      <td>11.39</td>\n",
       "      <td>0.030000</td>\n",
       "    </tr>\n",
       "    <tr>\n",
       "      <th>220</th>\n",
       "      <td>7.46</td>\n",
       "      <td>3.88</td>\n",
       "      <td>11.39</td>\n",
       "      <td>0.000000</td>\n",
       "    </tr>\n",
       "    <tr>\n",
       "      <th>240</th>\n",
       "      <td>7.46</td>\n",
       "      <td>3.88</td>\n",
       "      <td>172.60</td>\n",
       "      <td>0.000000</td>\n",
       "    </tr>\n",
       "  </tbody>\n",
       "</table>\n",
       "</div>"
      ],
      "text/plain": [
       "         x     y  rotation     delta\n",
       "0     7.36  2.37   -103.20       NaN\n",
       "20   10.80  0.30    -15.30  0.316228\n",
       "40   13.30  2.60    153.00  0.223607\n",
       "60   13.40  1.00      5.34  0.300000\n",
       "80   14.20  5.40     92.30  0.300000\n",
       "100  11.70  6.90   -177.00  0.316228\n",
       "120   6.17  7.35   -154.80  0.282312\n",
       "140   0.96  6.32   -126.10  0.212603\n",
       "160   3.59  4.65   -142.60  0.205183\n",
       "180   2.60  3.25    -15.76  0.291204\n",
       "200   7.44  3.88     11.39  0.030000\n",
       "220   7.46  3.88     11.39  0.000000\n",
       "240   7.46  3.88    172.60  0.000000"
      ]
     },
     "execution_count": 214,
     "metadata": {},
     "output_type": "execute_result"
    }
   ],
   "source": [
    "df[(df.index) % 20 == 0]"
   ]
  },
  {
   "cell_type": "markdown",
   "metadata": {},
   "source": [
    "#### pandas is awesome"
   ]
  },
  {
   "cell_type": "code",
   "execution_count": 301,
   "metadata": {},
   "outputs": [
    {
     "data": {
      "text/html": [
       "<div>\n",
       "<style scoped>\n",
       "    .dataframe tbody tr th:only-of-type {\n",
       "        vertical-align: middle;\n",
       "    }\n",
       "\n",
       "    .dataframe tbody tr th {\n",
       "        vertical-align: top;\n",
       "    }\n",
       "\n",
       "    .dataframe thead th {\n",
       "        text-align: right;\n",
       "    }\n",
       "</style>\n",
       "<table border=\"1\" class=\"dataframe\">\n",
       "  <thead>\n",
       "    <tr style=\"text-align: right;\">\n",
       "      <th></th>\n",
       "      <th>x</th>\n",
       "      <th>y</th>\n",
       "      <th>rotation</th>\n",
       "      <th>delta</th>\n",
       "      <th>radians</th>\n",
       "      <th>vec_x</th>\n",
       "      <th>vec_y</th>\n",
       "    </tr>\n",
       "  </thead>\n",
       "  <tbody>\n",
       "    <tr>\n",
       "      <th>0</th>\n",
       "      <td>7.36</td>\n",
       "      <td>2.37</td>\n",
       "      <td>-104.00</td>\n",
       "      <td>0.288617</td>\n",
       "      <td>-1.815142</td>\n",
       "      <td>-0.698229</td>\n",
       "      <td>-2.800442</td>\n",
       "    </tr>\n",
       "    <tr>\n",
       "      <th>20</th>\n",
       "      <td>10.80</td>\n",
       "      <td>0.30</td>\n",
       "      <td>-15.30</td>\n",
       "      <td>0.316228</td>\n",
       "      <td>-0.267035</td>\n",
       "      <td>3.050198</td>\n",
       "      <td>-0.834440</td>\n",
       "    </tr>\n",
       "    <tr>\n",
       "      <th>40</th>\n",
       "      <td>13.30</td>\n",
       "      <td>2.60</td>\n",
       "      <td>153.00</td>\n",
       "      <td>0.223607</td>\n",
       "      <td>2.670354</td>\n",
       "      <td>-1.992351</td>\n",
       "      <td>1.015154</td>\n",
       "    </tr>\n",
       "    <tr>\n",
       "      <th>60</th>\n",
       "      <td>13.40</td>\n",
       "      <td>1.00</td>\n",
       "      <td>5.34</td>\n",
       "      <td>0.300000</td>\n",
       "      <td>0.093201</td>\n",
       "      <td>2.986980</td>\n",
       "      <td>0.279197</td>\n",
       "    </tr>\n",
       "    <tr>\n",
       "      <th>80</th>\n",
       "      <td>14.20</td>\n",
       "      <td>5.40</td>\n",
       "      <td>92.30</td>\n",
       "      <td>0.300000</td>\n",
       "      <td>1.610939</td>\n",
       "      <td>-0.120395</td>\n",
       "      <td>2.997583</td>\n",
       "    </tr>\n",
       "    <tr>\n",
       "      <th>100</th>\n",
       "      <td>11.70</td>\n",
       "      <td>6.90</td>\n",
       "      <td>-177.00</td>\n",
       "      <td>0.316228</td>\n",
       "      <td>-3.089233</td>\n",
       "      <td>-3.157944</td>\n",
       "      <td>-0.165501</td>\n",
       "    </tr>\n",
       "    <tr>\n",
       "      <th>120</th>\n",
       "      <td>6.17</td>\n",
       "      <td>7.35</td>\n",
       "      <td>-154.80</td>\n",
       "      <td>0.282312</td>\n",
       "      <td>-2.701770</td>\n",
       "      <td>-2.554434</td>\n",
       "      <td>-1.202026</td>\n",
       "    </tr>\n",
       "    <tr>\n",
       "      <th>140</th>\n",
       "      <td>0.96</td>\n",
       "      <td>6.32</td>\n",
       "      <td>-126.10</td>\n",
       "      <td>0.212603</td>\n",
       "      <td>-2.200860</td>\n",
       "      <td>-1.252649</td>\n",
       "      <td>-1.717810</td>\n",
       "    </tr>\n",
       "    <tr>\n",
       "      <th>160</th>\n",
       "      <td>3.59</td>\n",
       "      <td>4.65</td>\n",
       "      <td>-142.60</td>\n",
       "      <td>0.205183</td>\n",
       "      <td>-2.488840</td>\n",
       "      <td>-1.630003</td>\n",
       "      <td>-1.246231</td>\n",
       "    </tr>\n",
       "    <tr>\n",
       "      <th>180</th>\n",
       "      <td>2.60</td>\n",
       "      <td>3.25</td>\n",
       "      <td>-15.76</td>\n",
       "      <td>0.291204</td>\n",
       "      <td>-0.275064</td>\n",
       "      <td>2.802574</td>\n",
       "      <td>-0.790936</td>\n",
       "    </tr>\n",
       "    <tr>\n",
       "      <th>200</th>\n",
       "      <td>7.44</td>\n",
       "      <td>3.88</td>\n",
       "      <td>11.39</td>\n",
       "      <td>0.030000</td>\n",
       "      <td>0.198793</td>\n",
       "      <td>0.294092</td>\n",
       "      <td>0.059246</td>\n",
       "    </tr>\n",
       "    <tr>\n",
       "      <th>220</th>\n",
       "      <td>7.46</td>\n",
       "      <td>3.88</td>\n",
       "      <td>11.39</td>\n",
       "      <td>0.000000</td>\n",
       "      <td>0.198793</td>\n",
       "      <td>0.000000</td>\n",
       "      <td>0.000000</td>\n",
       "    </tr>\n",
       "    <tr>\n",
       "      <th>240</th>\n",
       "      <td>7.46</td>\n",
       "      <td>3.88</td>\n",
       "      <td>172.60</td>\n",
       "      <td>0.000000</td>\n",
       "      <td>3.012438</td>\n",
       "      <td>-0.000000</td>\n",
       "      <td>0.000000</td>\n",
       "    </tr>\n",
       "  </tbody>\n",
       "</table>\n",
       "</div>"
      ],
      "text/plain": [
       "         x     y  rotation     delta   radians     vec_x     vec_y\n",
       "0     7.36  2.37   -104.00  0.288617 -1.815142 -0.698229 -2.800442\n",
       "20   10.80  0.30    -15.30  0.316228 -0.267035  3.050198 -0.834440\n",
       "40   13.30  2.60    153.00  0.223607  2.670354 -1.992351  1.015154\n",
       "60   13.40  1.00      5.34  0.300000  0.093201  2.986980  0.279197\n",
       "80   14.20  5.40     92.30  0.300000  1.610939 -0.120395  2.997583\n",
       "100  11.70  6.90   -177.00  0.316228 -3.089233 -3.157944 -0.165501\n",
       "120   6.17  7.35   -154.80  0.282312 -2.701770 -2.554434 -1.202026\n",
       "140   0.96  6.32   -126.10  0.212603 -2.200860 -1.252649 -1.717810\n",
       "160   3.59  4.65   -142.60  0.205183 -2.488840 -1.630003 -1.246231\n",
       "180   2.60  3.25    -15.76  0.291204 -0.275064  2.802574 -0.790936\n",
       "200   7.44  3.88     11.39  0.030000  0.198793  0.294092  0.059246\n",
       "220   7.46  3.88     11.39  0.000000  0.198793  0.000000  0.000000\n",
       "240   7.46  3.88    172.60  0.000000  3.012438 -0.000000  0.000000"
      ]
     },
     "execution_count": 301,
     "metadata": {},
     "output_type": "execute_result"
    }
   ],
   "source": [
    "scale = 10 # doesn't do anything yet - quiver keeps autoscaling\n",
    "df['delta'] = np.sqrt(np.asarray(df.diff()['x']**2) + np.asarray(df.diff()['y']**2))\n",
    "df['radians'] = df['rotation'] * np.pi/180\n",
    "df['vec_x'] = df['delta']* np.cos(df['radians'])*scale\n",
    "df['vec_y'] = df['delta']* np.sin(df['radians'])*scale\n",
    "df.at[0, 'vec_x'] = df.at[1, 'vec_x'] \n",
    "df.at[0, 'vec_y'] = df.at[1, 'vec_y']\n",
    "df.at[0, 'delta'] = df.at[1, 'delta'] \n",
    "df[(df.index) % 20 == 0]"
   ]
  },
  {
   "cell_type": "code",
   "execution_count": 340,
   "metadata": {},
   "outputs": [],
   "source": [
    "def plot_df(df, arrows=True, save=False, fname='odometry.png'):\n",
    "    label = \"Mapping Odometry from Robot Simulation\"\n",
    "    fig, ax = plt.subplots(figsize=(16,10))\n",
    "    df.plot.scatter(x='x', y='y',c='rotation', colormap='viridis', ax=ax, label='sim')\n",
    "    if arrows:\n",
    "        ax.quiver(x,y, df['vec_x'], df['vec_y'], df['rotation'])\n",
    "    \n",
    "    plt.text(df.iloc[[0]]['x'], df.iloc[[0]]['y']+.2, 'START', size=16)\n",
    "    plt.text(df.iloc[[-1]]['x'], df.iloc[[-1]]['y']+.2, 'FINISH', size=16)\n",
    "    \n",
    "    ax.legend(loc='lower right', bbox_to_anchor=(0.1, 0.02), fontsize=14)\n",
    "    ax.set_title(label, fontsize=16)\n",
    "    ax.set_ylabel('y position on field', fontsize = 16)\n",
    "    ax.set_xlabel('x position on field', fontsize = 16)\n",
    "    plt.tight_layout()\n",
    "    if save:\n",
    "        plt.ioff()\n",
    "        plt.savefig(fname, facecolor='w', bbox_inches='tight', dpi=100)\n",
    "        plt.close()\n",
    "\n",
    "    plt.show()\n"
   ]
  },
  {
   "cell_type": "code",
   "execution_count": 341,
   "metadata": {},
   "outputs": [],
   "source": [
    "plot_df(df, arrows=True, save=True)"
   ]
  },
  {
   "cell_type": "markdown",
   "metadata": {},
   "source": [
    "---\n",
    "#### Pickle the data if desired (pickle writes python data to files for later use)"
   ]
  },
  {
   "cell_type": "code",
   "execution_count": 116,
   "metadata": {},
   "outputs": [],
   "source": [
    "from datetime import datetime\n",
    "time_stamp = datetime.now().strftime(\"%Y%m%d_%H%M%S\")\n",
    "pickle_dir = r'.\\pickle'\n",
    "outfile = pickle_dir + '\\\\' + time_stamp +'.pkl'\n",
    "with open(outfile, 'wb') as fp:\n",
    "    pickle.dump(df, fp)"
   ]
  },
  {
   "cell_type": "markdown",
   "metadata": {},
   "source": [
    "#### load data from pickle"
   ]
  },
  {
   "cell_type": "code",
   "execution_count": 118,
   "metadata": {},
   "outputs": [
    {
     "data": {
      "text/plain": [
       "['.\\\\pickle\\\\20210120_144817.pkl', '.\\\\pickle\\\\20210120_144951.pkl']"
      ]
     },
     "execution_count": 118,
     "metadata": {},
     "output_type": "execute_result"
    }
   ],
   "source": [
    "# get a list of all the files \n",
    "import glob\n",
    "pickle_dir = r'.\\pickle'\n",
    "files = glob.glob(pickle_dir+ '\\*')\n",
    "files"
   ]
  },
  {
   "cell_type": "code",
   "execution_count": 224,
   "metadata": {},
   "outputs": [],
   "source": [
    "infile = files[-1]\n",
    "try:\n",
    "    with open(infile, 'rb') as fp:\n",
    "        df = pickle.load(fp)\n",
    "except ValueError as e:\n",
    "    print(f'Missing df in pickle {infile}, please create it and re-pickle')"
   ]
  },
  {
   "cell_type": "code",
   "execution_count": 225,
   "metadata": {},
   "outputs": [
    {
     "data": {
      "text/html": [
       "<div>\n",
       "<style scoped>\n",
       "    .dataframe tbody tr th:only-of-type {\n",
       "        vertical-align: middle;\n",
       "    }\n",
       "\n",
       "    .dataframe tbody tr th {\n",
       "        vertical-align: top;\n",
       "    }\n",
       "\n",
       "    .dataframe thead th {\n",
       "        text-align: right;\n",
       "    }\n",
       "</style>\n",
       "<table border=\"1\" class=\"dataframe\">\n",
       "  <thead>\n",
       "    <tr style=\"text-align: right;\">\n",
       "      <th></th>\n",
       "      <th>x</th>\n",
       "      <th>y</th>\n",
       "      <th>rotation</th>\n",
       "    </tr>\n",
       "  </thead>\n",
       "  <tbody>\n",
       "    <tr>\n",
       "      <th>0</th>\n",
       "      <td>7.36</td>\n",
       "      <td>2.37</td>\n",
       "      <td>-103.20</td>\n",
       "    </tr>\n",
       "    <tr>\n",
       "      <th>20</th>\n",
       "      <td>10.80</td>\n",
       "      <td>0.30</td>\n",
       "      <td>-15.30</td>\n",
       "    </tr>\n",
       "    <tr>\n",
       "      <th>40</th>\n",
       "      <td>13.30</td>\n",
       "      <td>2.60</td>\n",
       "      <td>153.00</td>\n",
       "    </tr>\n",
       "    <tr>\n",
       "      <th>60</th>\n",
       "      <td>13.40</td>\n",
       "      <td>1.00</td>\n",
       "      <td>5.34</td>\n",
       "    </tr>\n",
       "    <tr>\n",
       "      <th>80</th>\n",
       "      <td>14.20</td>\n",
       "      <td>5.40</td>\n",
       "      <td>92.30</td>\n",
       "    </tr>\n",
       "    <tr>\n",
       "      <th>100</th>\n",
       "      <td>11.70</td>\n",
       "      <td>6.90</td>\n",
       "      <td>-177.00</td>\n",
       "    </tr>\n",
       "    <tr>\n",
       "      <th>120</th>\n",
       "      <td>6.17</td>\n",
       "      <td>7.35</td>\n",
       "      <td>-154.80</td>\n",
       "    </tr>\n",
       "    <tr>\n",
       "      <th>140</th>\n",
       "      <td>0.96</td>\n",
       "      <td>6.32</td>\n",
       "      <td>-126.10</td>\n",
       "    </tr>\n",
       "    <tr>\n",
       "      <th>160</th>\n",
       "      <td>3.59</td>\n",
       "      <td>4.65</td>\n",
       "      <td>-142.60</td>\n",
       "    </tr>\n",
       "    <tr>\n",
       "      <th>180</th>\n",
       "      <td>2.60</td>\n",
       "      <td>3.25</td>\n",
       "      <td>-15.76</td>\n",
       "    </tr>\n",
       "    <tr>\n",
       "      <th>200</th>\n",
       "      <td>7.44</td>\n",
       "      <td>3.88</td>\n",
       "      <td>11.39</td>\n",
       "    </tr>\n",
       "    <tr>\n",
       "      <th>220</th>\n",
       "      <td>7.46</td>\n",
       "      <td>3.88</td>\n",
       "      <td>11.39</td>\n",
       "    </tr>\n",
       "    <tr>\n",
       "      <th>240</th>\n",
       "      <td>7.46</td>\n",
       "      <td>3.88</td>\n",
       "      <td>172.60</td>\n",
       "    </tr>\n",
       "  </tbody>\n",
       "</table>\n",
       "</div>"
      ],
      "text/plain": [
       "         x     y  rotation\n",
       "0     7.36  2.37   -103.20\n",
       "20   10.80  0.30    -15.30\n",
       "40   13.30  2.60    153.00\n",
       "60   13.40  1.00      5.34\n",
       "80   14.20  5.40     92.30\n",
       "100  11.70  6.90   -177.00\n",
       "120   6.17  7.35   -154.80\n",
       "140   0.96  6.32   -126.10\n",
       "160   3.59  4.65   -142.60\n",
       "180   2.60  3.25    -15.76\n",
       "200   7.44  3.88     11.39\n",
       "220   7.46  3.88     11.39\n",
       "240   7.46  3.88    172.60"
      ]
     },
     "execution_count": 225,
     "metadata": {},
     "output_type": "execute_result"
    }
   ],
   "source": [
    "df[(df.index) % 20 == 0]"
   ]
  },
  {
   "cell_type": "code",
   "execution_count": null,
   "metadata": {},
   "outputs": [],
   "source": [
    "## other stuff to remember in case i need it\n",
    "def valueChanged(table, key, value, isNew):\n",
    "    print(\"valueChanged: key: '%s'; value: %s; isNew: %s\" % (key, value, isNew))\n",
    "def connectionListener(connected, info):\n",
    "    print(info, \"; Connected=%s\" % connected)"
   ]
  }
 ],
 "metadata": {
  "kernelspec": {
   "display_name": "Python 3",
   "language": "python",
   "name": "python3"
  },
  "language_info": {
   "codemirror_mode": {
    "name": "ipython",
    "version": 3
   },
   "file_extension": ".py",
   "mimetype": "text/x-python",
   "name": "python",
   "nbconvert_exporter": "python",
   "pygments_lexer": "ipython3",
   "version": "3.7.4"
  }
 },
 "nbformat": 4,
 "nbformat_minor": 4
}
