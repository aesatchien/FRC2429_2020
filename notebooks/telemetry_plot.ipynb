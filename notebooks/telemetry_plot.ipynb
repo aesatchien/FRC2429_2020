{
 "cells": [
  {
   "cell_type": "markdown",
   "metadata": {},
   "source": [
    "### Code to plot a telemetry profile (Beta!)\n",
    "#### 2021 01 20 CJH"
   ]
  },
  {
   "cell_type": "code",
   "execution_count": 110,
   "metadata": {},
   "outputs": [],
   "source": [
    "from networktables import NetworkTables\n",
    "import pandas as pd\n",
    "import matplotlib.pyplot as plt\n",
    "import numpy as np\n",
    "import pickle"
   ]
  },
  {
   "cell_type": "markdown",
   "metadata": {},
   "source": [
    "#### choose the address of the network tables server"
   ]
  },
  {
   "cell_type": "code",
   "execution_count": 416,
   "metadata": {},
   "outputs": [
    {
     "data": {
      "text/plain": [
       "False"
      ]
     },
     "execution_count": 416,
     "metadata": {},
     "output_type": "execute_result"
    }
   ],
   "source": [
    "odometry_list = None  # initialize this for later\n",
    "# ip = '172.22.11.2' # robot\n",
    "# ip = 'roboRIO-2429-FRC.local'\n",
    "ip = 'localhost'  # simulation\n",
    "NetworkTables.initialize(server=ip)"
   ]
  },
  {
   "cell_type": "code",
   "execution_count": 379,
   "metadata": {},
   "outputs": [
    {
     "name": "stdout",
     "output_type": "stream",
     "text": [
      "ConnectionInfo(remote_id='Robot', remote_ip='localhost', remote_port=1735, last_update=430556.859, protocol_version=768) ; Connected=True\n"
     ]
    }
   ],
   "source": [
    "NetworkTables.addConnectionListener(connectionListener, immediateNotify=True)"
   ]
  },
  {
   "cell_type": "markdown",
   "metadata": {},
   "source": [
    "#### get the SmartDashboard table from the network tables server so we can query it"
   ]
  },
  {
   "cell_type": "code",
   "execution_count": 380,
   "metadata": {},
   "outputs": [],
   "source": [
    "sd = NetworkTables.getTable(\"SmartDashboard\")"
   ]
  },
  {
   "cell_type": "markdown",
   "metadata": {},
   "source": [
    "#### get the odometry entries - currently set up as a list of 256 strings due to the limitations of what you can store in network tables "
   ]
  },
  {
   "cell_type": "code",
   "execution_count": 426,
   "metadata": {},
   "outputs": [],
   "source": [
    "# all on one\n",
    "def get_data():\n",
    "    # this was a lot simpler but stupid network tables can only take 256 values per array\n",
    "    odometry_list = sd.getStringArray('Odometry_List',0)\n",
    "    all_floats = [ [float(s[i*10:(i+1)*10]) for i in range(6)] for s in odometry_list] # i made all columns 10 characters wide\n",
    "    df = pd.DataFrame(all_floats, columns=['POSE_X', 'POSE_Y', 'POSE_ROT', 'LEFT_ENCODER', 'RIGHT_ENCODER', 'NAVX_YAW'])\n",
    "    scale = 10 # doesn't do anything yet - quiver keeps autoscaling\n",
    "    df['DELTA'] = np.sqrt(np.asarray(df.diff()['POSE_X']**2) + np.asarray(df.diff()['POSE_Y']**2))\n",
    "    df['RADIANS'] = df['POSE_ROT'] * np.pi/180\n",
    "    df['VEC_X'] = df['DELTA']* np.cos(df['RADIANS'])*scale\n",
    "    df['VEC_Y'] = df['DELTA']* np.sin(df['RADIANS'])*scale\n",
    "    df.at[0, 'VEC_X'] = df.at[1, 'VEC_X'] \n",
    "    df.at[0, 'VEC_Y'] = df.at[1, 'VEC_Y']\n",
    "    df.at[0, 'DELTA'] = df.at[1, 'DELTA'] \n",
    "    df[(df.index) % 20 == 0]\n",
    "    return df, odometry_list"
   ]
  },
  {
   "cell_type": "markdown",
   "metadata": {},
   "source": [
    "#### step by step - getting data, parsing data, extra calculations"
   ]
  },
  {
   "cell_type": "code",
   "execution_count": 381,
   "metadata": {},
   "outputs": [],
   "source": [
    "odometry_list = sd.getStringArray('Odometry_List',0) # grab live from the simulation"
   ]
  },
  {
   "cell_type": "code",
   "execution_count": 427,
   "metadata": {},
   "outputs": [
    {
     "name": "stdout",
     "output_type": "stream",
     "text": [
      "Example: ####+0.62#####+7.90####+77.92#####+2.98######-3.1####-77.92\n",
      "x:####+0.62# y:####+7.90# rot:###+77.92# lenc:####+2.98# renc:#####-3.1# yaw:###-77.92\n"
     ]
    }
   ],
   "source": [
    "example = odometry_list[0]\n",
    "example = example.replace(' ', '#')\n",
    "print(f'Example: {example}\\nx:{example[0:10]} y:{example[10:20]} rot:{example[20:30]} lenc:{example[30:40]} renc:{example[40:50]} yaw:{example[50:60]}')"
   ]
  },
  {
   "cell_type": "code",
   "execution_count": 452,
   "metadata": {},
   "outputs": [
    {
     "data": {
      "text/plain": [
       "('    +0.62     +7.90    +77.92     +2.98      -3.1    -77.92',\n",
       " '    +2.92     +3.37    +71.80     +7.33      -7.5    -71.80',\n",
       " '    +8.64     +5.06    -73.28    +11.90     -11.6    +73.28',\n",
       " '   +12.72     +1.28   +121.60    +16.24     -15.6   -121.60',\n",
       " '    +6.41     +2.92   +162.06    +21.50     -21.2   -162.06',\n",
       " '    +0.76     +4.50   +111.53    +25.04     -24.7   -111.53')"
      ]
     },
     "execution_count": 452,
     "metadata": {},
     "output_type": "execute_result"
    }
   ],
   "source": [
    "odometry_list[::50]"
   ]
  },
  {
   "cell_type": "markdown",
   "metadata": {},
   "source": [
    "### python is a high level language!\n",
    "* list comprehension does for loops in one line (nested loops too!)\n",
    "* pandas makes a great table (called dataframes) from a dictionary (or lists if you provide the column names)"
   ]
  },
  {
   "cell_type": "code",
   "execution_count": 458,
   "metadata": {},
   "outputs": [
    {
     "name": "stdout",
     "output_type": "stream",
     "text": [
      "x starts with 0 values ... and x ends with 255 values\n"
     ]
    }
   ],
   "source": [
    "# the regular way - gets a single colimn from the data\n",
    "x = []  # make an empty list\n",
    "print(f'x starts with {len(x)} values ...', end=' ')\n",
    "data_length = len(odometry_list)  # figure our how long our data is\n",
    "for i in range(data_length):  # start a for loop, remember the : and to indent the next lines\n",
    "    current_line = odometry_list[i] # get one line from our odometry data\n",
    "    x_value_string = current_line[0:10]  # get characters 0 through 9 and convert to float\n",
    "    x_value_float = float(x_value_string)\n",
    "    x.append(x_value_float)\n",
    "print(f'and x ends with {len(x)} values')"
   ]
  },
  {
   "cell_type": "code",
   "execution_count": 459,
   "metadata": {},
   "outputs": [],
   "source": [
    "# do it for all the data\n",
    "x = [float(i[0:10]) for i in odometry_list]  # python list comprehension example\n",
    "y = [float(i[10:20]) for i in odometry_list]\n",
    "rot = [float(i[20:30]) for i in odometry_list]\n",
    "l_dist = [float(i[30:40]) for i in odometry_list]\n",
    "r_dist = [float(i[40:50]) for i in odometry_list]\n",
    "yaw = [float(i[50:60]) for i in odometry_list]\n",
    "# make a pandas dataframe object from our data\n",
    "df = pd.DataFrame({'POSE_X':x, 'POSE_Y':y, 'POSE_ROT':rot, 'LEFT_ENCODER':l_dist, 'RIGHT_ENCODER':r_dist, 'NAVX_YAW':yaw})"
   ]
  },
  {
   "cell_type": "code",
   "execution_count": 447,
   "metadata": {},
   "outputs": [],
   "source": [
    "# faster way to get the same thing, but requires more python thinking\n",
    "all_floats = [ [float(s[i*10:(i+1)*10]) for i in range(6)] for s in odometry_list]\n",
    "df2 = pd.DataFrame(all_floats, columns=['POSE_X', 'POSE_Y', 'POSE_ROT', 'LEFT_ENCODER', 'RIGHT_ENCODER', 'NAVX_YAW'])\n",
    "#df2[(df2.index) % 20 == 0]"
   ]
  },
  {
   "cell_type": "markdown",
   "metadata": {},
   "source": [
    "#### take a quick look at the pandas datatable from the odometry"
   ]
  },
  {
   "cell_type": "code",
   "execution_count": 461,
   "metadata": {},
   "outputs": [
    {
     "data": {
      "text/html": [
       "<div>\n",
       "<style scoped>\n",
       "    .dataframe tbody tr th:only-of-type {\n",
       "        vertical-align: middle;\n",
       "    }\n",
       "\n",
       "    .dataframe tbody tr th {\n",
       "        vertical-align: top;\n",
       "    }\n",
       "\n",
       "    .dataframe thead th {\n",
       "        text-align: right;\n",
       "    }\n",
       "</style>\n",
       "<table border=\"1\" class=\"dataframe\">\n",
       "  <thead>\n",
       "    <tr style=\"text-align: right;\">\n",
       "      <th></th>\n",
       "      <th>POSE_X</th>\n",
       "      <th>POSE_Y</th>\n",
       "      <th>POSE_ROT</th>\n",
       "      <th>LEFT_ENCODER</th>\n",
       "      <th>RIGHT_ENCODER</th>\n",
       "      <th>NAVX_YAW</th>\n",
       "    </tr>\n",
       "  </thead>\n",
       "  <tbody>\n",
       "    <tr>\n",
       "      <th>0</th>\n",
       "      <td>0.62</td>\n",
       "      <td>7.90</td>\n",
       "      <td>77.92</td>\n",
       "      <td>2.98</td>\n",
       "      <td>-3.1</td>\n",
       "      <td>-77.92</td>\n",
       "    </tr>\n",
       "    <tr>\n",
       "      <th>25</th>\n",
       "      <td>1.67</td>\n",
       "      <td>2.62</td>\n",
       "      <td>-101.84</td>\n",
       "      <td>5.34</td>\n",
       "      <td>-5.2</td>\n",
       "      <td>101.84</td>\n",
       "    </tr>\n",
       "    <tr>\n",
       "      <th>50</th>\n",
       "      <td>2.92</td>\n",
       "      <td>3.37</td>\n",
       "      <td>71.80</td>\n",
       "      <td>7.33</td>\n",
       "      <td>-7.5</td>\n",
       "      <td>-71.80</td>\n",
       "    </tr>\n",
       "    <tr>\n",
       "      <th>75</th>\n",
       "      <td>4.17</td>\n",
       "      <td>7.11</td>\n",
       "      <td>-65.11</td>\n",
       "      <td>9.66</td>\n",
       "      <td>-9.6</td>\n",
       "      <td>65.11</td>\n",
       "    </tr>\n",
       "    <tr>\n",
       "      <th>100</th>\n",
       "      <td>8.64</td>\n",
       "      <td>5.06</td>\n",
       "      <td>-73.28</td>\n",
       "      <td>11.90</td>\n",
       "      <td>-11.6</td>\n",
       "      <td>73.28</td>\n",
       "    </tr>\n",
       "    <tr>\n",
       "      <th>125</th>\n",
       "      <td>14.03</td>\n",
       "      <td>4.56</td>\n",
       "      <td>-72.15</td>\n",
       "      <td>13.92</td>\n",
       "      <td>-13.7</td>\n",
       "      <td>72.15</td>\n",
       "    </tr>\n",
       "    <tr>\n",
       "      <th>150</th>\n",
       "      <td>12.72</td>\n",
       "      <td>1.28</td>\n",
       "      <td>121.60</td>\n",
       "      <td>16.24</td>\n",
       "      <td>-15.6</td>\n",
       "      <td>-121.60</td>\n",
       "    </tr>\n",
       "    <tr>\n",
       "      <th>175</th>\n",
       "      <td>11.72</td>\n",
       "      <td>7.45</td>\n",
       "      <td>-122.77</td>\n",
       "      <td>18.50</td>\n",
       "      <td>-18.4</td>\n",
       "      <td>122.77</td>\n",
       "    </tr>\n",
       "    <tr>\n",
       "      <th>200</th>\n",
       "      <td>6.41</td>\n",
       "      <td>2.92</td>\n",
       "      <td>162.06</td>\n",
       "      <td>21.50</td>\n",
       "      <td>-21.2</td>\n",
       "      <td>-162.06</td>\n",
       "    </tr>\n",
       "    <tr>\n",
       "      <th>225</th>\n",
       "      <td>2.45</td>\n",
       "      <td>0.43</td>\n",
       "      <td>122.05</td>\n",
       "      <td>23.67</td>\n",
       "      <td>-23.3</td>\n",
       "      <td>-122.05</td>\n",
       "    </tr>\n",
       "    <tr>\n",
       "      <th>250</th>\n",
       "      <td>0.76</td>\n",
       "      <td>4.50</td>\n",
       "      <td>111.53</td>\n",
       "      <td>25.04</td>\n",
       "      <td>-24.7</td>\n",
       "      <td>-111.53</td>\n",
       "    </tr>\n",
       "  </tbody>\n",
       "</table>\n",
       "</div>"
      ],
      "text/plain": [
       "     POSE_X  POSE_Y  POSE_ROT  LEFT_ENCODER  RIGHT_ENCODER  NAVX_YAW\n",
       "0      0.62    7.90     77.92          2.98           -3.1    -77.92\n",
       "25     1.67    2.62   -101.84          5.34           -5.2    101.84\n",
       "50     2.92    3.37     71.80          7.33           -7.5    -71.80\n",
       "75     4.17    7.11    -65.11          9.66           -9.6     65.11\n",
       "100    8.64    5.06    -73.28         11.90          -11.6     73.28\n",
       "125   14.03    4.56    -72.15         13.92          -13.7     72.15\n",
       "150   12.72    1.28    121.60         16.24          -15.6   -121.60\n",
       "175   11.72    7.45   -122.77         18.50          -18.4    122.77\n",
       "200    6.41    2.92    162.06         21.50          -21.2   -162.06\n",
       "225    2.45    0.43    122.05         23.67          -23.3   -122.05\n",
       "250    0.76    4.50    111.53         25.04          -24.7   -111.53"
      ]
     },
     "execution_count": 461,
     "metadata": {},
     "output_type": "execute_result"
    }
   ],
   "source": [
    "# want to do typical python slicing but that does not work with pandas so use a little logic to cut down the table for displaying here\n",
    "df[(df.index) % 25 == 0]"
   ]
  },
  {
   "cell_type": "markdown",
   "metadata": {},
   "source": [
    "#### pandas is awesome - think of it as excel/google sheets but really fast\n",
    "* calculate the distance between points as a new column 'DELTA'\n",
    "* use the heading to get data for the plotting direction arrows to give ourselves a velocity vector\n",
    "* fix some blank lines left by the analysis"
   ]
  },
  {
   "cell_type": "code",
   "execution_count": 462,
   "metadata": {},
   "outputs": [
    {
     "data": {
      "text/html": [
       "<div>\n",
       "<style scoped>\n",
       "    .dataframe tbody tr th:only-of-type {\n",
       "        vertical-align: middle;\n",
       "    }\n",
       "\n",
       "    .dataframe tbody tr th {\n",
       "        vertical-align: top;\n",
       "    }\n",
       "\n",
       "    .dataframe thead th {\n",
       "        text-align: right;\n",
       "    }\n",
       "</style>\n",
       "<table border=\"1\" class=\"dataframe\">\n",
       "  <thead>\n",
       "    <tr style=\"text-align: right;\">\n",
       "      <th></th>\n",
       "      <th>POSE_X</th>\n",
       "      <th>POSE_Y</th>\n",
       "      <th>POSE_ROT</th>\n",
       "      <th>LEFT_ENCODER</th>\n",
       "      <th>RIGHT_ENCODER</th>\n",
       "      <th>NAVX_YAW</th>\n",
       "      <th>DELTA</th>\n",
       "      <th>RADIANS</th>\n",
       "      <th>VEC_X</th>\n",
       "      <th>VEC_Y</th>\n",
       "    </tr>\n",
       "  </thead>\n",
       "  <tbody>\n",
       "    <tr>\n",
       "      <th>0</th>\n",
       "      <td>0.62</td>\n",
       "      <td>7.90</td>\n",
       "      <td>77.92</td>\n",
       "      <td>2.98</td>\n",
       "      <td>-3.1</td>\n",
       "      <td>-77.92</td>\n",
       "      <td>0.215407</td>\n",
       "      <td>1.359961</td>\n",
       "      <td>1.070515</td>\n",
       "      <td>1.869224</td>\n",
       "    </tr>\n",
       "    <tr>\n",
       "      <th>25</th>\n",
       "      <td>1.67</td>\n",
       "      <td>2.62</td>\n",
       "      <td>-101.84</td>\n",
       "      <td>5.34</td>\n",
       "      <td>-5.2</td>\n",
       "      <td>101.84</td>\n",
       "      <td>0.286356</td>\n",
       "      <td>-1.777443</td>\n",
       "      <td>-0.587544</td>\n",
       "      <td>-2.802640</td>\n",
       "    </tr>\n",
       "    <tr>\n",
       "      <th>50</th>\n",
       "      <td>2.92</td>\n",
       "      <td>3.37</td>\n",
       "      <td>71.80</td>\n",
       "      <td>7.33</td>\n",
       "      <td>-7.5</td>\n",
       "      <td>-71.80</td>\n",
       "      <td>0.284605</td>\n",
       "      <td>1.253146</td>\n",
       "      <td>0.888921</td>\n",
       "      <td>2.703668</td>\n",
       "    </tr>\n",
       "    <tr>\n",
       "      <th>75</th>\n",
       "      <td>4.17</td>\n",
       "      <td>7.11</td>\n",
       "      <td>-65.11</td>\n",
       "      <td>9.66</td>\n",
       "      <td>-9.6</td>\n",
       "      <td>65.11</td>\n",
       "      <td>0.286356</td>\n",
       "      <td>-1.136384</td>\n",
       "      <td>1.205210</td>\n",
       "      <td>-2.597589</td>\n",
       "    </tr>\n",
       "    <tr>\n",
       "      <th>100</th>\n",
       "      <td>8.64</td>\n",
       "      <td>5.06</td>\n",
       "      <td>-73.28</td>\n",
       "      <td>11.90</td>\n",
       "      <td>-11.6</td>\n",
       "      <td>73.28</td>\n",
       "      <td>0.470106</td>\n",
       "      <td>-1.278977</td>\n",
       "      <td>1.352472</td>\n",
       "      <td>-4.502313</td>\n",
       "    </tr>\n",
       "    <tr>\n",
       "      <th>125</th>\n",
       "      <td>14.03</td>\n",
       "      <td>4.56</td>\n",
       "      <td>-72.15</td>\n",
       "      <td>13.92</td>\n",
       "      <td>-13.7</td>\n",
       "      <td>72.15</td>\n",
       "      <td>0.143178</td>\n",
       "      <td>-1.259255</td>\n",
       "      <td>0.438879</td>\n",
       "      <td>-1.362859</td>\n",
       "    </tr>\n",
       "    <tr>\n",
       "      <th>150</th>\n",
       "      <td>12.72</td>\n",
       "      <td>1.28</td>\n",
       "      <td>121.60</td>\n",
       "      <td>16.24</td>\n",
       "      <td>-15.6</td>\n",
       "      <td>-121.60</td>\n",
       "      <td>0.256125</td>\n",
       "      <td>2.122320</td>\n",
       "      <td>-1.342059</td>\n",
       "      <td>2.181485</td>\n",
       "    </tr>\n",
       "    <tr>\n",
       "      <th>175</th>\n",
       "      <td>11.72</td>\n",
       "      <td>7.45</td>\n",
       "      <td>-122.77</td>\n",
       "      <td>18.50</td>\n",
       "      <td>-18.4</td>\n",
       "      <td>122.77</td>\n",
       "      <td>0.494065</td>\n",
       "      <td>-2.142741</td>\n",
       "      <td>-2.674215</td>\n",
       "      <td>-4.154344</td>\n",
       "    </tr>\n",
       "    <tr>\n",
       "      <th>200</th>\n",
       "      <td>6.41</td>\n",
       "      <td>2.92</td>\n",
       "      <td>162.06</td>\n",
       "      <td>21.50</td>\n",
       "      <td>-21.2</td>\n",
       "      <td>-162.06</td>\n",
       "      <td>0.058310</td>\n",
       "      <td>2.828481</td>\n",
       "      <td>-0.554745</td>\n",
       "      <td>0.179605</td>\n",
       "    </tr>\n",
       "    <tr>\n",
       "      <th>225</th>\n",
       "      <td>2.45</td>\n",
       "      <td>0.43</td>\n",
       "      <td>122.05</td>\n",
       "      <td>23.67</td>\n",
       "      <td>-23.3</td>\n",
       "      <td>-122.05</td>\n",
       "      <td>0.250000</td>\n",
       "      <td>2.130174</td>\n",
       "      <td>-1.326648</td>\n",
       "      <td>2.118963</td>\n",
       "    </tr>\n",
       "    <tr>\n",
       "      <th>250</th>\n",
       "      <td>0.76</td>\n",
       "      <td>4.50</td>\n",
       "      <td>111.53</td>\n",
       "      <td>25.04</td>\n",
       "      <td>-24.7</td>\n",
       "      <td>-111.53</td>\n",
       "      <td>0.000000</td>\n",
       "      <td>1.946566</td>\n",
       "      <td>-0.000000</td>\n",
       "      <td>0.000000</td>\n",
       "    </tr>\n",
       "  </tbody>\n",
       "</table>\n",
       "</div>"
      ],
      "text/plain": [
       "     POSE_X  POSE_Y  POSE_ROT  LEFT_ENCODER  RIGHT_ENCODER  NAVX_YAW  \\\n",
       "0      0.62    7.90     77.92          2.98           -3.1    -77.92   \n",
       "25     1.67    2.62   -101.84          5.34           -5.2    101.84   \n",
       "50     2.92    3.37     71.80          7.33           -7.5    -71.80   \n",
       "75     4.17    7.11    -65.11          9.66           -9.6     65.11   \n",
       "100    8.64    5.06    -73.28         11.90          -11.6     73.28   \n",
       "125   14.03    4.56    -72.15         13.92          -13.7     72.15   \n",
       "150   12.72    1.28    121.60         16.24          -15.6   -121.60   \n",
       "175   11.72    7.45   -122.77         18.50          -18.4    122.77   \n",
       "200    6.41    2.92    162.06         21.50          -21.2   -162.06   \n",
       "225    2.45    0.43    122.05         23.67          -23.3   -122.05   \n",
       "250    0.76    4.50    111.53         25.04          -24.7   -111.53   \n",
       "\n",
       "        DELTA   RADIANS     VEC_X     VEC_Y  \n",
       "0    0.215407  1.359961  1.070515  1.869224  \n",
       "25   0.286356 -1.777443 -0.587544 -2.802640  \n",
       "50   0.284605  1.253146  0.888921  2.703668  \n",
       "75   0.286356 -1.136384  1.205210 -2.597589  \n",
       "100  0.470106 -1.278977  1.352472 -4.502313  \n",
       "125  0.143178 -1.259255  0.438879 -1.362859  \n",
       "150  0.256125  2.122320 -1.342059  2.181485  \n",
       "175  0.494065 -2.142741 -2.674215 -4.154344  \n",
       "200  0.058310  2.828481 -0.554745  0.179605  \n",
       "225  0.250000  2.130174 -1.326648  2.118963  \n",
       "250  0.000000  1.946566 -0.000000  0.000000  "
      ]
     },
     "execution_count": 462,
     "metadata": {},
     "output_type": "execute_result"
    },
    {
     "name": "stderr",
     "output_type": "stream",
     "text": [
      "read error: [WinError 10054] An existing connection was forcibly closed by the remote host\n"
     ]
    },
    {
     "name": "stdout",
     "output_type": "stream",
     "text": [
      "ConnectionInfo(remote_id='Robot', remote_ip='localhost', remote_port=1735, last_update=453149.859, protocol_version=768) ; Connected=False\n",
      "ConnectionInfo(remote_id='Robot', remote_ip='localhost', remote_port=1735, last_update=453149.859, protocol_version=768) ; Connected=False\n",
      "ConnectionInfo(remote_id='Robot', remote_ip='localhost', remote_port=1735, last_update=453149.859, protocol_version=768) ; Connected=False\n",
      "ConnectionInfo(remote_id='Robot', remote_ip='localhost', remote_port=1735, last_update=453149.859, protocol_version=768) ; Connected=False\n",
      "ConnectionInfo(remote_id='Robot', remote_ip='localhost', remote_port=1735, last_update=0, protocol_version=768) ; Connected=True\n",
      "ConnectionInfo(remote_id='Robot', remote_ip='localhost', remote_port=1735, last_update=0, protocol_version=768) ; Connected=True\n",
      "ConnectionInfo(remote_id='Robot', remote_ip='localhost', remote_port=1735, last_update=0, protocol_version=768) ; Connected=True\n",
      "ConnectionInfo(remote_id='Robot', remote_ip='localhost', remote_port=1735, last_update=0, protocol_version=768) ; Connected=True\n"
     ]
    },
    {
     "name": "stderr",
     "output_type": "stream",
     "text": [
      "read error: [WinError 10054] An existing connection was forcibly closed by the remote host\n"
     ]
    },
    {
     "name": "stdout",
     "output_type": "stream",
     "text": [
      "ConnectionInfo(remote_id='Robot', remote_ip='localhost', remote_port=1735, last_update=0, protocol_version=768) ; Connected=False\n",
      "ConnectionInfo(remote_id='Robot', remote_ip='localhost', remote_port=1735, last_update=0, protocol_version=768) ; Connected=False\n",
      "ConnectionInfo(remote_id='Robot', remote_ip='localhost', remote_port=1735, last_update=0, protocol_version=768) ; Connected=False\n",
      "ConnectionInfo(remote_id='Robot', remote_ip='localhost', remote_port=1735, last_update=0, protocol_version=768) ; Connected=False\n",
      "ConnectionInfo(remote_id='Robot', remote_ip='localhost', remote_port=1735, last_update=0, protocol_version=768) ; Connected=True\n",
      "ConnectionInfo(remote_id='Robot', remote_ip='localhost', remote_port=1735, last_update=0, protocol_version=768) ; Connected=True\n",
      "ConnectionInfo(remote_id='Robot', remote_ip='localhost', remote_port=1735, last_update=0, protocol_version=768) ; Connected=True\n",
      "ConnectionInfo(remote_id='Robot', remote_ip='localhost', remote_port=1735, last_update=0, protocol_version=768) ; Connected=True\n"
     ]
    },
    {
     "name": "stderr",
     "output_type": "stream",
     "text": [
      "read error: [WinError 10054] An existing connection was forcibly closed by the remote host\n"
     ]
    },
    {
     "name": "stdout",
     "output_type": "stream",
     "text": [
      "ConnectionInfo(remote_id='Robot', remote_ip='localhost', remote_port=1735, last_update=453454.562, protocol_version=768) ; Connected=False\n",
      "ConnectionInfo(remote_id='Robot', remote_ip='localhost', remote_port=1735, last_update=453454.562, protocol_version=768) ; Connected=False\n",
      "ConnectionInfo(remote_id='Robot', remote_ip='localhost', remote_port=1735, last_update=453454.562, protocol_version=768) ; Connected=False\n",
      "ConnectionInfo(remote_id='Robot', remote_ip='localhost', remote_port=1735, last_update=453454.562, protocol_version=768) ; Connected=False\n"
     ]
    },
    {
     "name": "stderr",
     "output_type": "stream",
     "text": [
      "read error in handshake: [WinError 10054] An existing connection was forcibly closed by the remote host\n"
     ]
    },
    {
     "name": "stdout",
     "output_type": "stream",
     "text": [
      "ConnectionInfo(remote_id=None, remote_ip='localhost', remote_port=1735, last_update=0, protocol_version=768) ; Connected=False\n",
      "ConnectionInfo(remote_id=None, remote_ip='localhost', remote_port=1735, last_update=0, protocol_version=768) ; Connected=False\n",
      "ConnectionInfo(remote_id=None, remote_ip='localhost', remote_port=1735, last_update=0, protocol_version=768) ; Connected=False\n",
      "ConnectionInfo(remote_id=None, remote_ip='localhost', remote_port=1735, last_update=0, protocol_version=768) ; Connected=False\n",
      "ConnectionInfo(remote_id='Robot', remote_ip='localhost', remote_port=1735, last_update=0, protocol_version=768) ; Connected=True\n",
      "ConnectionInfo(remote_id='Robot', remote_ip='localhost', remote_port=1735, last_update=0, protocol_version=768) ; Connected=True\n",
      "ConnectionInfo(remote_id='Robot', remote_ip='localhost', remote_port=1735, last_update=0, protocol_version=768) ; Connected=True\n",
      "ConnectionInfo(remote_id='Robot', remote_ip='localhost', remote_port=1735, last_update=0, protocol_version=768) ; Connected=True\n"
     ]
    },
    {
     "name": "stderr",
     "output_type": "stream",
     "text": [
      "read error: [WinError 10054] An existing connection was forcibly closed by the remote host\n"
     ]
    },
    {
     "name": "stdout",
     "output_type": "stream",
     "text": [
      "ConnectionInfo(remote_id='Robot', remote_ip='localhost', remote_port=1735, last_update=454044.39, protocol_version=768) ; Connected=False\n",
      "ConnectionInfo(remote_id='Robot', remote_ip='localhost', remote_port=1735, last_update=454044.39, protocol_version=768) ; Connected=False\n",
      "ConnectionInfo(remote_id='Robot', remote_ip='localhost', remote_port=1735, last_update=454044.39, protocol_version=768) ; Connected=False\n",
      "ConnectionInfo(remote_id='Robot', remote_ip='localhost', remote_port=1735, last_update=454044.39, protocol_version=768) ; Connected=False\n",
      "ConnectionInfo(remote_id='Robot', remote_ip='localhost', remote_port=1735, last_update=0, protocol_version=768) ; Connected=True\n",
      "ConnectionInfo(remote_id='Robot', remote_ip='localhost', remote_port=1735, last_update=0, protocol_version=768) ; Connected=True\n",
      "ConnectionInfo(remote_id='Robot', remote_ip='localhost', remote_port=1735, last_update=0, protocol_version=768) ; Connected=True\n",
      "ConnectionInfo(remote_id='Robot', remote_ip='localhost', remote_port=1735, last_update=0, protocol_version=768) ; Connected=True\n"
     ]
    },
    {
     "name": "stderr",
     "output_type": "stream",
     "text": [
      "read error: [WinError 10054] An existing connection was forcibly closed by the remote host\n"
     ]
    },
    {
     "name": "stdout",
     "output_type": "stream",
     "text": [
      "ConnectionInfo(remote_id='Robot', remote_ip='localhost', remote_port=1735, last_update=454122.765, protocol_version=768) ; Connected=False\n",
      "ConnectionInfo(remote_id='Robot', remote_ip='localhost', remote_port=1735, last_update=454122.765, protocol_version=768) ; Connected=False\n",
      "ConnectionInfo(remote_id='Robot', remote_ip='localhost', remote_port=1735, last_update=454122.765, protocol_version=768) ; Connected=False\n",
      "ConnectionInfo(remote_id='Robot', remote_ip='localhost', remote_port=1735, last_update=454122.765, protocol_version=768) ; Connected=False\n",
      "ConnectionInfo(remote_id='Robot', remote_ip='localhost', remote_port=1735, last_update=0, protocol_version=768) ; Connected=True\n",
      "ConnectionInfo(remote_id='Robot', remote_ip='localhost', remote_port=1735, last_update=0, protocol_version=768) ; Connected=True\n",
      "ConnectionInfo(remote_id='Robot', remote_ip='localhost', remote_port=1735, last_update=0, protocol_version=768) ; Connected=True\n",
      "ConnectionInfo(remote_id='Robot', remote_ip='localhost', remote_port=1735, last_update=0, protocol_version=768) ; Connected=True\n"
     ]
    },
    {
     "name": "stderr",
     "output_type": "stream",
     "text": [
      "read error: [WinError 10054] An existing connection was forcibly closed by the remote host\n"
     ]
    },
    {
     "name": "stdout",
     "output_type": "stream",
     "text": [
      "ConnectionInfo(remote_id='Robot', remote_ip='localhost', remote_port=1735, last_update=454150.609, protocol_version=768) ; Connected=False\n",
      "ConnectionInfo(remote_id='Robot', remote_ip='localhost', remote_port=1735, last_update=454150.609, protocol_version=768) ; Connected=False\n",
      "ConnectionInfo(remote_id='Robot', remote_ip='localhost', remote_port=1735, last_update=454150.609, protocol_version=768) ; Connected=False\n",
      "ConnectionInfo(remote_id='Robot', remote_ip='localhost', remote_port=1735, last_update=454150.609, protocol_version=768) ; Connected=False\n",
      "ConnectionInfo(remote_id='Robot', remote_ip='localhost', remote_port=1735, last_update=0, protocol_version=768) ; Connected=True\n",
      "ConnectionInfo(remote_id='Robot', remote_ip='localhost', remote_port=1735, last_update=0, protocol_version=768) ; Connected=True\n",
      "ConnectionInfo(remote_id='Robot', remote_ip='localhost', remote_port=1735, last_update=0, protocol_version=768) ; Connected=True\n",
      "ConnectionInfo(remote_id='Robot', remote_ip='localhost', remote_port=1735, last_update=0, protocol_version=768) ; Connected=True\n"
     ]
    },
    {
     "name": "stderr",
     "output_type": "stream",
     "text": [
      "read error: [WinError 10054] An existing connection was forcibly closed by the remote host\n"
     ]
    },
    {
     "name": "stdout",
     "output_type": "stream",
     "text": [
      "ConnectionInfo(remote_id='Robot', remote_ip='localhost', remote_port=1735, last_update=0, protocol_version=768) ; Connected=False\n",
      "ConnectionInfo(remote_id='Robot', remote_ip='localhost', remote_port=1735, last_update=0, protocol_version=768) ; Connected=False\n",
      "ConnectionInfo(remote_id='Robot', remote_ip='localhost', remote_port=1735, last_update=0, protocol_version=768) ; Connected=False\n",
      "ConnectionInfo(remote_id='Robot', remote_ip='localhost', remote_port=1735, last_update=0, protocol_version=768) ; Connected=False\n",
      "ConnectionInfo(remote_id='Robot', remote_ip='localhost', remote_port=1735, last_update=0, protocol_version=768) ; Connected=True\n",
      "ConnectionInfo(remote_id='Robot', remote_ip='localhost', remote_port=1735, last_update=0, protocol_version=768) ; Connected=True\n",
      "ConnectionInfo(remote_id='Robot', remote_ip='localhost', remote_port=1735, last_update=0, protocol_version=768) ; Connected=True\n",
      "ConnectionInfo(remote_id='Robot', remote_ip='localhost', remote_port=1735, last_update=0, protocol_version=768) ; Connected=True\n"
     ]
    },
    {
     "name": "stderr",
     "output_type": "stream",
     "text": [
      "read error: [WinError 10054] An existing connection was forcibly closed by the remote host\n"
     ]
    },
    {
     "name": "stdout",
     "output_type": "stream",
     "text": [
      "ConnectionInfo(remote_id='Robot', remote_ip='localhost', remote_port=1735, last_update=455410.687, protocol_version=768) ; Connected=False\n",
      "ConnectionInfo(remote_id='Robot', remote_ip='localhost', remote_port=1735, last_update=455410.687, protocol_version=768) ; Connected=False\n",
      "ConnectionInfo(remote_id='Robot', remote_ip='localhost', remote_port=1735, last_update=455410.687, protocol_version=768) ; Connected=False\n",
      "ConnectionInfo(remote_id='Robot', remote_ip='localhost', remote_port=1735, last_update=455410.687, protocol_version=768) ; Connected=False\n"
     ]
    }
   ],
   "source": [
    "scale = 10 # doesn't do anything yet - quiver keeps autoscaling\n",
    "df['DELTA'] = np.sqrt(np.asarray(df.diff()['POSE_X']**2) + np.asarray(df.diff()['POSE_Y']**2))\n",
    "df['RADIANS'] = df['POSE_ROT'] * np.pi/180\n",
    "df['VEC_X'] = df['DELTA']* np.cos(df['RADIANS'])*scale\n",
    "df['VEC_Y'] = df['DELTA']* np.sin(df['RADIANS'])*scale\n",
    "df.at[0, 'VEC_X'] = df.at[1, 'VEC_X'] \n",
    "df.at[0, 'VEC_Y'] = df.at[1, 'VEC_Y']\n",
    "df.at[0, 'DELTA'] = df.at[1, 'DELTA'] \n",
    "df[(df.index) % 25 == 0]"
   ]
  },
  {
   "cell_type": "code",
   "execution_count": 400,
   "metadata": {},
   "outputs": [],
   "source": [
    "def plot_df(df, arrows=True, save=False, fname='odometry.png'):\n",
    "    label = \"Mapping Odometry from Robot Simulation\"\n",
    "    fig, ax = plt.subplots(figsize=(16,10))\n",
    "    df.plot.scatter(x='POSE_X', y='POSE_Y',c='POSE_ROT', colormap='viridis', ax=ax, label='sim')\n",
    "    if arrows:\n",
    "        ax.quiver(x,y, df['VEC_X'], df['VEC_Y'], df['POSE_ROT'])\n",
    "    \n",
    "    plt.text(df.iloc[[0]]['POSE_X'], df.iloc[[0]]['POSE_Y']-.2, 'START', ha='center', size=16)\n",
    "    plt.text(df.iloc[[-1]]['POSE_X'], df.iloc[[-1]]['POSE_Y']+.2, 'FINISH', ha='center', size=16)\n",
    "    \n",
    "    ax.legend(loc='lower right', bbox_to_anchor=(0.1, 0.02), fontsize=14)\n",
    "    ax.set_title(label, fontsize=16)\n",
    "    ax.set_ylabel('y position on field', fontsize = 16)\n",
    "    ax.set_xlabel('x position on field', fontsize = 16)\n",
    "    plt.tight_layout()\n",
    "    if save:\n",
    "        plt.ioff()\n",
    "        plt.savefig(fname, facecolor='w', bbox_inches='tight', dpi=100)\n",
    "        plt.close()\n",
    "\n",
    "    plt.show()\n"
   ]
  },
  {
   "cell_type": "code",
   "execution_count": 415,
   "metadata": {},
   "outputs": [
    {
     "data": {
      "image/png": "[encoded data removed]",
      "text/plain": [
       "<Figure size 1152x720 with 2 Axes>"
      ]
     },
     "metadata": {
      "needs_background": "light"
     },
     "output_type": "display_data"
    }
   ],
   "source": [
    "plot_df(df, arrows=True, save=False)"
   ]
  },
  {
   "cell_type": "markdown",
   "metadata": {},
   "source": [
    "---\n",
    "#### Pickle the data if desired (pickle writes python data to files for later use)"
   ]
  },
  {
   "cell_type": "code",
   "execution_count": 408,
   "metadata": {},
   "outputs": [],
   "source": [
    "from datetime import datetime\n",
    "time_stamp = datetime.now().strftime(\"%Y%m%d_%H%M%S\")\n",
    "pickle_dir = r'.\\pickle'\n",
    "outfile = pickle_dir + '\\\\' + time_stamp +'.pkl'\n",
    "with open(outfile, 'wb') as fp:\n",
    "    pickle.dump([odometry_list, df], fp)"
   ]
  },
  {
   "cell_type": "markdown",
   "metadata": {},
   "source": [
    "#### load data from pickle"
   ]
  },
  {
   "cell_type": "code",
   "execution_count": 410,
   "metadata": {},
   "outputs": [
    {
     "data": {
      "text/plain": [
       "['.\\\\pickle\\\\20210121_093111.pkl']"
      ]
     },
     "execution_count": 410,
     "metadata": {},
     "output_type": "execute_result"
    }
   ],
   "source": [
    "# get a list of all the files \n",
    "import glob\n",
    "pickle_dir = r'.\\pickle'\n",
    "files = glob.glob(pickle_dir+ '\\*')\n",
    "files"
   ]
  },
  {
   "cell_type": "code",
   "execution_count": 424,
   "metadata": {},
   "outputs": [],
   "source": [
    "infile = files[-1]\n",
    "try:\n",
    "    with open(infile, 'rb') as fp:\n",
    "        [odometry_list, df] = pickle.load(fp)\n",
    "except ValueError as e:\n",
    "    print(f'Missing item  in pickle {infile}, please create it and re-pickle')"
   ]
  },
  {
   "cell_type": "code",
   "execution_count": 412,
   "metadata": {},
   "outputs": [
    {
     "data": {
      "text/html": [
       "<div>\n",
       "<style scoped>\n",
       "    .dataframe tbody tr th:only-of-type {\n",
       "        vertical-align: middle;\n",
       "    }\n",
       "\n",
       "    .dataframe tbody tr th {\n",
       "        vertical-align: top;\n",
       "    }\n",
       "\n",
       "    .dataframe thead th {\n",
       "        text-align: right;\n",
       "    }\n",
       "</style>\n",
       "<table border=\"1\" class=\"dataframe\">\n",
       "  <thead>\n",
       "    <tr style=\"text-align: right;\">\n",
       "      <th></th>\n",
       "      <th>POSE_X</th>\n",
       "      <th>POSE_Y</th>\n",
       "      <th>POSE_ROT</th>\n",
       "      <th>LEFT_ENCODER</th>\n",
       "      <th>RIGHT_ENCODER</th>\n",
       "      <th>NAVX_YAW</th>\n",
       "      <th>DELTA</th>\n",
       "      <th>RADIANS</th>\n",
       "      <th>VEC_X</th>\n",
       "      <th>VEC_Y</th>\n",
       "    </tr>\n",
       "  </thead>\n",
       "  <tbody>\n",
       "    <tr>\n",
       "      <th>0</th>\n",
       "      <td>0.62</td>\n",
       "      <td>7.90</td>\n",
       "      <td>77.92</td>\n",
       "      <td>2.98</td>\n",
       "      <td>-3.1</td>\n",
       "      <td>-77.92</td>\n",
       "      <td>0.215407</td>\n",
       "      <td>1.359961</td>\n",
       "      <td>1.070515</td>\n",
       "      <td>1.869224</td>\n",
       "    </tr>\n",
       "    <tr>\n",
       "      <th>50</th>\n",
       "      <td>2.92</td>\n",
       "      <td>3.37</td>\n",
       "      <td>71.80</td>\n",
       "      <td>7.33</td>\n",
       "      <td>-7.5</td>\n",
       "      <td>-71.80</td>\n",
       "      <td>0.284605</td>\n",
       "      <td>1.253146</td>\n",
       "      <td>0.888921</td>\n",
       "      <td>2.703668</td>\n",
       "    </tr>\n",
       "    <tr>\n",
       "      <th>100</th>\n",
       "      <td>8.64</td>\n",
       "      <td>5.06</td>\n",
       "      <td>-73.28</td>\n",
       "      <td>11.90</td>\n",
       "      <td>-11.6</td>\n",
       "      <td>73.28</td>\n",
       "      <td>0.470106</td>\n",
       "      <td>-1.278977</td>\n",
       "      <td>1.352472</td>\n",
       "      <td>-4.502313</td>\n",
       "    </tr>\n",
       "    <tr>\n",
       "      <th>150</th>\n",
       "      <td>12.72</td>\n",
       "      <td>1.28</td>\n",
       "      <td>121.60</td>\n",
       "      <td>16.24</td>\n",
       "      <td>-15.6</td>\n",
       "      <td>-121.60</td>\n",
       "      <td>0.256125</td>\n",
       "      <td>2.122320</td>\n",
       "      <td>-1.342059</td>\n",
       "      <td>2.181485</td>\n",
       "    </tr>\n",
       "    <tr>\n",
       "      <th>200</th>\n",
       "      <td>6.41</td>\n",
       "      <td>2.92</td>\n",
       "      <td>162.06</td>\n",
       "      <td>21.50</td>\n",
       "      <td>-21.2</td>\n",
       "      <td>-162.06</td>\n",
       "      <td>0.058310</td>\n",
       "      <td>2.828481</td>\n",
       "      <td>-0.554745</td>\n",
       "      <td>0.179605</td>\n",
       "    </tr>\n",
       "    <tr>\n",
       "      <th>250</th>\n",
       "      <td>0.76</td>\n",
       "      <td>4.50</td>\n",
       "      <td>111.53</td>\n",
       "      <td>25.04</td>\n",
       "      <td>-24.7</td>\n",
       "      <td>-111.53</td>\n",
       "      <td>0.000000</td>\n",
       "      <td>1.946566</td>\n",
       "      <td>-0.000000</td>\n",
       "      <td>0.000000</td>\n",
       "    </tr>\n",
       "  </tbody>\n",
       "</table>\n",
       "</div>"
      ],
      "text/plain": [
       "     POSE_X  POSE_Y  POSE_ROT  LEFT_ENCODER  RIGHT_ENCODER  NAVX_YAW  \\\n",
       "0      0.62    7.90     77.92          2.98           -3.1    -77.92   \n",
       "50     2.92    3.37     71.80          7.33           -7.5    -71.80   \n",
       "100    8.64    5.06    -73.28         11.90          -11.6     73.28   \n",
       "150   12.72    1.28    121.60         16.24          -15.6   -121.60   \n",
       "200    6.41    2.92    162.06         21.50          -21.2   -162.06   \n",
       "250    0.76    4.50    111.53         25.04          -24.7   -111.53   \n",
       "\n",
       "        DELTA   RADIANS     VEC_X     VEC_Y  \n",
       "0    0.215407  1.359961  1.070515  1.869224  \n",
       "50   0.284605  1.253146  0.888921  2.703668  \n",
       "100  0.470106 -1.278977  1.352472 -4.502313  \n",
       "150  0.256125  2.122320 -1.342059  2.181485  \n",
       "200  0.058310  2.828481 -0.554745  0.179605  \n",
       "250  0.000000  1.946566 -0.000000  0.000000  "
      ]
     },
     "execution_count": 412,
     "metadata": {},
     "output_type": "execute_result"
    }
   ],
   "source": [
    "df[(df.index) % 50 == 0]"
   ]
  },
  {
   "cell_type": "code",
   "execution_count": null,
   "metadata": {},
   "outputs": [],
   "source": [
    "## other stuff to remember in case i need it\n",
    "def valueChanged(table, key, value, isNew):\n",
    "    print(\"valueChanged: key: '%s'; value: %s; isNew: %s\" % (key, value, isNew))\n",
    "def connectionListener(connected, info):\n",
    "    print(info, \"; Connected=%s\" % connected)"
   ]
  },
  {
   "cell_type": "code",
   "execution_count": null,
   "metadata": {},
   "outputs": [],
   "source": []
  }
 ],
 "metadata": {
  "kernelspec": {
   "display_name": "Python 3",
   "language": "python",
   "name": "python3"
  },
  "language_info": {
   "codemirror_mode": {
    "name": "ipython",
    "version": 3
   },
   "file_extension": ".py",
   "mimetype": "text/x-python",
   "name": "python",
   "nbconvert_exporter": "python",
   "pygments_lexer": "ipython3",
   "version": "3.7.4"
  }
 },
 "nbformat": 4,
 "nbformat_minor": 4
}
