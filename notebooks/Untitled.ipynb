{
 "cells": [
  {
   "cell_type": "markdown",
   "id": "7ce3f205-4e8e-4d3a-97ab-1b9b81eee62f",
   "metadata": {},
   "source": [
    "### Robot-like examples "
   ]
  },
  {
   "cell_type": "markdown",
   "id": "21848b03-004c-4536-975d-970c848132ff",
   "metadata": {},
   "source": [
    "### "
   ]
  },
  {
   "cell_type": "code",
   "execution_count": null,
   "id": "b323b0e0-ba3f-47f7-b86a-5bcdf362787d",
   "metadata": {},
   "outputs": [],
   "source": [
    "from commandbased import CommandBasedRobot"
   ]
  },
  {
   "cell_type": "code",
   "execution_count": 2,
   "id": "5f335ff1-61f5-4780-9311-9340a95cfb93",
   "metadata": {},
   "outputs": [],
   "source": [
    "robot = CommandBasedRobot()"
   ]
  },
  {
   "cell_type": "code",
   "execution_count": 5,
   "id": "64c57712-e996-435c-8ab5-020557286de5",
   "metadata": {},
   "outputs": [
    {
     "data": {
      "text/plain": [
       "['_loopFunc',\n",
       " '_m_period',\n",
       " '_simulationInit',\n",
       " '_simulationPeriodic',\n",
       " 'addPeriodic',\n",
       " 'autonomousInit',\n",
       " 'autonomousPeriodic',\n",
       " 'commandPeriodic',\n",
       " 'disabledInit',\n",
       " 'disabledPeriodic',\n",
       " 'ds',\n",
       " 'endCompetition',\n",
       " 'getControlState',\n",
       " 'getPeriod',\n",
       " 'handleCrash',\n",
       " 'isAutonomous',\n",
       " 'isAutonomousEnabled',\n",
       " 'isDisabled',\n",
       " 'isEnabled',\n",
       " 'isNewDataAvailable',\n",
       " 'isOperatorControl',\n",
       " 'isOperatorControlEnabled',\n",
       " 'isReal',\n",
       " 'isSimulation',\n",
       " 'isTest',\n",
       " 'kDefaultPeriod',\n",
       " 'logger',\n",
       " 'main',\n",
       " 'robotInit',\n",
       " 'robotPeriodic',\n",
       " 'setNetworkTablesFlushEnabled',\n",
       " 'startCompetition',\n",
       " 'teleopInit',\n",
       " 'teleopPeriodic',\n",
       " 'testInit',\n",
       " 'testPeriodic']"
      ]
     },
     "execution_count": 5,
     "metadata": {},
     "output_type": "execute_result"
    }
   ],
   "source": [
    "[attrib for attrib in dir(robot) if '__' not in attrib]"
   ]
  },
  {
   "cell_type": "code",
   "execution_count": null,
   "id": "e15df8a7-22b5-4731-a238-a03990574e08",
   "metadata": {},
   "outputs": [],
   "source": []
  }
 ],
 "metadata": {
  "kernelspec": {
   "display_name": "Python [conda env:robo2021]",
   "language": "python",
   "name": "conda-env-robo2021-py"
  },
  "language_info": {
   "codemirror_mode": {
    "name": "ipython",
    "version": 3
   },
   "file_extension": ".py",
   "mimetype": "text/x-python",
   "name": "python",
   "nbconvert_exporter": "python",
   "pygments_lexer": "ipython3",
   "version": "3.8.12"
  }
 },
 "nbformat": 4,
 "nbformat_minor": 5
}
