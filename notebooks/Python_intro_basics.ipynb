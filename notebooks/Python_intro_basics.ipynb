{
 "cells": [
  {
   "cell_type": "markdown",
   "id": "revolutionary-emphasis",
   "metadata": {},
   "source": [
    "### Quick Python tutorial - 20200115 CJH\n",
    "---"
   ]
  },
  {
   "cell_type": "markdown",
   "id": "southeast-cameroon",
   "metadata": {},
   "source": [
    "### Jupyter notebook cells allow three kinds of input: code, markdown, and raw text\n",
    "* the following cell has examples of markdown format in a raw text cell"
   ]
  },
  {
   "cell_type": "raw",
   "id": "classified-hearing",
   "metadata": {},
   "source": [
    "### This is Header 3\n",
    "#### This is Header 4\n",
    "\n",
    "Three dashes (---) gives you a horizontal line\n",
    "---\n",
    "* This starts a bulletedlist and **double asterisks** put text in bold"
   ]
  },
  {
   "cell_type": "code",
   "execution_count": 1,
   "id": "narrow-proposition",
   "metadata": {},
   "outputs": [
    {
     "name": "stdout",
     "output_type": "stream",
     "text": [
      "Hello World\n"
     ]
    }
   ],
   "source": [
    "print('Hello World')"
   ]
  },
  {
   "cell_type": "markdown",
   "id": "prompt-exhibition",
   "metadata": {},
   "source": [
    "### Comments\n",
    "* single line comments start with a #\n",
    "* you an put a # anywhere in a line and the rest of the line is a comment\n",
    "* multi-line comments aren't a thing but python ignores string literals that are not assigned to a variable so you can effectively start and end with three quotes \"\"\" or '''\n",
    "* \"\"\" is used for **doscstrings** and ''' is used for multi-line comments"
   ]
  },
  {
   "cell_type": "code",
   "execution_count": 2,
   "id": "conceptual-stopping",
   "metadata": {},
   "outputs": [
    {
     "data": {
      "text/plain": [
       "'\\nso is this, but you could actually assign it to a variable\\n'"
      ]
     },
     "execution_count": 2,
     "metadata": {},
     "output_type": "execute_result"
    }
   ],
   "source": [
    "# this is a comment\n",
    "x = 3  # now I'm going to mention why I set x equal to 3\n",
    "\n",
    "'''\n",
    "so is this, but you could actually assign it to a variable\n",
    "'''"
   ]
  },
  {
   "cell_type": "markdown",
   "id": "afraid-cleaner",
   "metadata": {},
   "source": [
    "### Numbers\n",
    "* python has integers (3), floating point (3.1234) numbers and complex numbers (3 + 4j)\n",
    "* and booleans (True and False)\n",
    "* and **None**, which doesn't really have a good category"
   ]
  },
  {
   "cell_type": "code",
   "execution_count": 3,
   "id": "downtown-resistance",
   "metadata": {},
   "outputs": [
    {
     "data": {
      "text/plain": [
       "11.5"
      ]
     },
     "execution_count": 3,
     "metadata": {},
     "output_type": "execute_result"
    }
   ],
   "source": [
    "x = 4  # int\n",
    "y = 7.5  # float\n",
    "x + y  # python figures out what type the answer should be"
   ]
  },
  {
   "cell_type": "code",
   "execution_count": 4,
   "id": "recent-jewel",
   "metadata": {},
   "outputs": [
    {
     "name": "stdout",
     "output_type": "stream",
     "text": [
      "Format string approach: x is <class 'int'>, y is <class 'float'>, x+y is <class 'float'>\n"
     ]
    }
   ],
   "source": [
    "# format strings are new in python 3.7 and are far better than the old ways of formatting\n",
    "print(f'Format string approach: x is {type(x)}, y is {type(y)}, x+y is {type(x+y)}')"
   ]
  },
  {
   "cell_type": "code",
   "execution_count": 5,
   "id": "ultimate-martin",
   "metadata": {},
   "outputs": [
    {
     "data": {
      "text/plain": [
       "(3+4j)"
      ]
     },
     "execution_count": 5,
     "metadata": {},
     "output_type": "execute_result"
    }
   ],
   "source": [
    "3+4j"
   ]
  },
  {
   "cell_type": "markdown",
   "id": "coordinated-camel",
   "metadata": {},
   "source": [
    "### Strings\n",
    "A string in python is enclosed in single ' or double \" quotes"
   ]
  },
  {
   "cell_type": "code",
   "execution_count": 33,
   "id": "front-collins",
   "metadata": {},
   "outputs": [
    {
     "data": {
      "text/plain": [
       "'helloworld'"
      ]
     },
     "execution_count": 33,
     "metadata": {},
     "output_type": "execute_result"
    }
   ],
   "source": [
    "string_1 = 'hello'\n",
    "string_2 = \"world\"\n",
    "string_1 + string_2"
   ]
  },
  {
   "cell_type": "code",
   "execution_count": 35,
   "id": "secret-paraguay",
   "metadata": {},
   "outputs": [
    {
     "data": {
      "text/plain": [
       "'HELLO'"
      ]
     },
     "execution_count": 35,
     "metadata": {},
     "output_type": "execute_result"
    }
   ],
   "source": [
    "string_1.upper()"
   ]
  },
  {
   "cell_type": "code",
   "execution_count": 41,
   "id": "western-syracuse",
   "metadata": {},
   "outputs": [
    {
     "data": {
      "text/plain": [
       "\u001b[1;31mDocstring:\u001b[0m\n",
       "S.startswith(prefix[, start[, end]]) -> bool\n",
       "\n",
       "Return True if S starts with the specified prefix, False otherwise.\n",
       "With optional start, test S beginning at that position.\n",
       "With optional end, stop comparing S at that position.\n",
       "prefix can also be a tuple of strings to try.\n",
       "\u001b[1;31mType:\u001b[0m      builtin_function_or_method\n"
      ]
     },
     "metadata": {},
     "output_type": "display_data"
    }
   ],
   "source": [
    "# strings have a lot of built in functions.  add a . at the end of the name and hit tab to see them all\n",
    "# don't know what a function does?  put a question mark at the end instead of () and python will return the docstring\n",
    "string_1.startswith?"
   ]
  },
  {
   "cell_type": "code",
   "execution_count": 44,
   "id": "athletic-pickup",
   "metadata": {},
   "outputs": [
    {
     "data": {
      "text/plain": [
       "True"
      ]
     },
     "execution_count": 44,
     "metadata": {},
     "output_type": "execute_result"
    }
   ],
   "source": [
    "string_1.startswith('h')"
   ]
  },
  {
   "cell_type": "markdown",
   "id": "contained-stevens",
   "metadata": {},
   "source": [
    "### Lists\n",
    "* a collection of objects comma-seperarted inside []\n",
    "* one of the most useful and 'pythonic' aspects of the language\n",
    "* you can collect anything you want in a list\n",
    "* for loops are simpler in python than other languages because you can iterate over a list\n",
    "* you reference the ith elements with mylist[i] (starts at zero)"
   ]
  },
  {
   "cell_type": "code",
   "execution_count": 45,
   "id": "driving-zealand",
   "metadata": {},
   "outputs": [
    {
     "data": {
      "text/plain": [
       "1"
      ]
     },
     "execution_count": 45,
     "metadata": {},
     "output_type": "execute_result"
    }
   ],
   "source": [
    "my_numeric_list = [1,2,3,4]\n",
    "my_string_list = ['a', 'b', 'c']\n",
    "my_numeric_list[0]\n",
    "# my_numeric_list + my_string_list"
   ]
  },
  {
   "cell_type": "code",
   "execution_count": 47,
   "id": "breathing-tunisia",
   "metadata": {},
   "outputs": [
    {
     "data": {
      "text/plain": [
       "4"
      ]
     },
     "execution_count": 47,
     "metadata": {},
     "output_type": "execute_result"
    }
   ],
   "source": [
    "# you often need to know the length of lists.  use len()\n",
    "len(my_numeric_list)"
   ]
  },
  {
   "cell_type": "markdown",
   "id": "difficult-robin",
   "metadata": {},
   "source": [
    "### Dictionaries\n",
    "* a key/value pair similar to a list but each value has a unique name\n",
    "* {key_1:value_1, key_2:value_2, ...}\n",
    "* like a list you can put whatever you want in the values and you can easily iterate over the keys or values\n",
    "* you access a value with the dict_name[key] format"
   ]
  },
  {
   "cell_type": "code",
   "execution_count": 8,
   "id": "industrial-arkansas",
   "metadata": {},
   "outputs": [
    {
     "data": {
      "text/plain": [
       "'Cory'"
      ]
     },
     "execution_count": 8,
     "metadata": {},
     "output_type": "execute_result"
    }
   ],
   "source": [
    "# never name your dictionary 'dict'! you will get very strange behaviour\n",
    "my_dict = {'FIRST_NAME':'Cory', 'LAST_NAME':'Hill', 6:'The number six'}\n",
    "my_dict['FIRST_NAME']"
   ]
  },
  {
   "cell_type": "code",
   "execution_count": 9,
   "id": "whole-workplace",
   "metadata": {},
   "outputs": [
    {
     "data": {
      "text/plain": [
       "'The number six'"
      ]
     },
     "execution_count": 9,
     "metadata": {},
     "output_type": "execute_result"
    }
   ],
   "source": [
    "my_dict[6]"
   ]
  },
  {
   "cell_type": "code",
   "execution_count": 10,
   "id": "certified-application",
   "metadata": {},
   "outputs": [
    {
     "data": {
      "text/plain": [
       "dict_keys(['FIRST_NAME', 'LAST_NAME', 6])"
      ]
     },
     "execution_count": 10,
     "metadata": {},
     "output_type": "execute_result"
    }
   ],
   "source": [
    "my_dict.keys()  # returns a list of the keys"
   ]
  },
  {
   "cell_type": "code",
   "execution_count": 11,
   "id": "closing-latter",
   "metadata": {},
   "outputs": [
    {
     "data": {
      "text/plain": [
       "dict_values(['Cory', 'Hill', 'The number six'])"
      ]
     },
     "execution_count": 11,
     "metadata": {},
     "output_type": "execute_result"
    }
   ],
   "source": [
    "my_dict.values()  # returns a list of the values"
   ]
  },
  {
   "cell_type": "markdown",
   "id": "brutal-fetish",
   "metadata": {},
   "source": [
    "### Importing - using external libraries (benefit from the hard work of others)\n",
    "* pretend there is a module named foo that has a function called bar\n",
    "  * **import foo** - allows you to reference foo.bar()\n",
    "  * **import foo as f**  - allows you to reference f.bar() if you are too lazy to type / already have a / foo \n",
    "  * **from foo import bar** - allows you to just use bar()\n",
    "  * from foo import * - gets everything in foo, allows you to use bar() but may add things you don't want\n",
    "\n"
   ]
  },
  {
   "cell_type": "code",
   "execution_count": 12,
   "id": "affiliated-business",
   "metadata": {},
   "outputs": [
    {
     "data": {
      "text/plain": [
       "1.4142135623730951"
      ]
     },
     "execution_count": 12,
     "metadata": {},
     "output_type": "execute_result"
    }
   ],
   "source": [
    "import numpy\n",
    "numpy.sqrt(2)"
   ]
  },
  {
   "cell_type": "code",
   "execution_count": 13,
   "id": "faced-socket",
   "metadata": {},
   "outputs": [
    {
     "data": {
      "text/plain": [
       "1.4142135623730951"
      ]
     },
     "execution_count": 13,
     "metadata": {},
     "output_type": "execute_result"
    }
   ],
   "source": [
    "import numpy as np\n",
    "np.sqrt(2)"
   ]
  },
  {
   "cell_type": "code",
   "execution_count": 14,
   "id": "natural-wealth",
   "metadata": {},
   "outputs": [
    {
     "data": {
      "text/plain": [
       "1.4142135623730951"
      ]
     },
     "execution_count": 14,
     "metadata": {},
     "output_type": "execute_result"
    }
   ],
   "source": [
    "from numpy import sqrt\n",
    "sqrt(2)"
   ]
  },
  {
   "cell_type": "code",
   "execution_count": 15,
   "id": "heated-pocket",
   "metadata": {},
   "outputs": [
    {
     "data": {
      "text/plain": [
       "1.4142135623730951"
      ]
     },
     "execution_count": 15,
     "metadata": {},
     "output_type": "execute_result"
    }
   ],
   "source": [
    "from numpy import *\n",
    "sqrt(2)"
   ]
  },
  {
   "cell_type": "code",
   "execution_count": 20,
   "id": "eleven-continent",
   "metadata": {},
   "outputs": [
    {
     "name": "stdin",
     "output_type": "stream",
     "text": [
      "Once deleted, variables cannot be recovered. Proceed (y/[n])?  y\n"
     ]
    }
   ],
   "source": [
    "# this is an example of an ipython \"magic\" command\n",
    "%reset"
   ]
  },
  {
   "cell_type": "code",
   "execution_count": 21,
   "id": "obvious-plate",
   "metadata": {},
   "outputs": [
    {
     "ename": "NameError",
     "evalue": "name 'sqrt' is not defined",
     "output_type": "error",
     "traceback": [
      "\u001b[1;31m---------------------------------------------------------------------------\u001b[0m",
      "\u001b[1;31mNameError\u001b[0m                                 Traceback (most recent call last)",
      "\u001b[1;32m<ipython-input-21-66e338417901>\u001b[0m in \u001b[0;36m<module>\u001b[1;34m\u001b[0m\n\u001b[1;32m----> 1\u001b[1;33m \u001b[0msqrt\u001b[0m\u001b[1;33m(\u001b[0m\u001b[1;36m2\u001b[0m\u001b[1;33m)\u001b[0m\u001b[1;33m\u001b[0m\u001b[1;33m\u001b[0m\u001b[0m\n\u001b[0m",
      "\u001b[1;31mNameError\u001b[0m: name 'sqrt' is not defined"
     ]
    }
   ],
   "source": [
    "sqrt(2)"
   ]
  },
  {
   "cell_type": "markdown",
   "id": "boxed-cream",
   "metadata": {},
   "source": [
    "### Dates and times\n",
    "* time module (measures seconds since the epoch, pauses execution, formats and converts times) \n",
    "* datetime module (formats dates as well as date arithmetic)"
   ]
  },
  {
   "cell_type": "code",
   "execution_count": 22,
   "id": "solved-season",
   "metadata": {},
   "outputs": [
    {
     "name": "stdout",
     "output_type": "stream",
     "text": [
      "1610781442.4902174\n",
      "time.struct_time(tm_year=2021, tm_mon=1, tm_mday=15, tm_hour=23, tm_min=17, tm_sec=22, tm_wday=4, tm_yday=15, tm_isdst=0)\n",
      "Fri Jan 15 23:17:22 2021\n"
     ]
    }
   ],
   "source": [
    "import time\n",
    "time.sleep(0.25)  # pause execution for 0.25 s\n",
    "\n",
    "now = time.time()  # calculate seconds since epoch\n",
    "print(now)  \n",
    "print(time.localtime(now))\n",
    "print(time.asctime(time.localtime(now)))"
   ]
  },
  {
   "cell_type": "code",
   "execution_count": 23,
   "id": "perfect-diabetes",
   "metadata": {},
   "outputs": [
    {
     "name": "stdout",
     "output_type": "stream",
     "text": [
      "Cory is 17086 days old.\n"
     ]
    }
   ],
   "source": [
    "import datetime  # you usually do from datetime import date or from datetime import datetime\n",
    "today = datetime.date.today()\n",
    "cory_birthday = datetime.date(1974, 4, 6)\n",
    "delta = today - cory_birthday\n",
    "print(f'Cory is {delta.days} days old.')"
   ]
  },
  {
   "cell_type": "code",
   "execution_count": 24,
   "id": "mental-realtor",
   "metadata": {},
   "outputs": [
    {
     "data": {
      "text/plain": [
       "datetime.datetime(2021, 1, 15, 23, 17, 23, 73051)"
      ]
     },
     "execution_count": 24,
     "metadata": {},
     "output_type": "execute_result"
    }
   ],
   "source": [
    "datetime.datetime.now()"
   ]
  },
  {
   "cell_type": "code",
   "execution_count": 25,
   "id": "unsigned-judge",
   "metadata": {},
   "outputs": [
    {
     "data": {
      "text/plain": [
       "'2021-01-15 23:17:23'"
      ]
     },
     "execution_count": 25,
     "metadata": {},
     "output_type": "execute_result"
    }
   ],
   "source": [
    "datetime.datetime.now().strftime(\"%Y-%m-%d %H:%M:%S\")"
   ]
  },
  {
   "cell_type": "markdown",
   "id": "geographic-worship",
   "metadata": {},
   "source": [
    "### Numpy - one stop shop for all array math"
   ]
  },
  {
   "cell_type": "code",
   "execution_count": 26,
   "id": "occupied-basement",
   "metadata": {},
   "outputs": [],
   "source": [
    "import numpy as np"
   ]
  },
  {
   "cell_type": "code",
   "execution_count": 27,
   "id": "inner-fiction",
   "metadata": {},
   "outputs": [
    {
     "data": {
      "text/plain": [
       "array([0.   , 0.628, 1.256, 1.884, 2.512, 3.14 , 3.768, 4.396, 5.024,\n",
       "       5.652, 6.28 ])"
      ]
     },
     "execution_count": 27,
     "metadata": {},
     "output_type": "execute_result"
    }
   ],
   "source": [
    "x = np.linspace(0, 6.28, 11)\n",
    "x"
   ]
  },
  {
   "cell_type": "code",
   "execution_count": 28,
   "id": "opposite-freedom",
   "metadata": {},
   "outputs": [
    {
     "data": {
      "text/plain": [
       "array([ 0.        ,  0.58752753,  0.95085946,  0.95135138,  0.58881556,\n",
       "        0.00159265, -0.586238  , -0.95036513, -0.95184088, -0.5901021 ,\n",
       "       -0.0031853 ])"
      ]
     },
     "execution_count": 28,
     "metadata": {},
     "output_type": "execute_result"
    }
   ],
   "source": [
    "y = np.sin(x)\n",
    "y"
   ]
  },
  {
   "cell_type": "markdown",
   "id": "searching-democrat",
   "metadata": {},
   "source": [
    "### matplotlib - you will see this in every python program that generates plots\n",
    "It can plot anything - check out https://matplotlib.org/gallery.html"
   ]
  },
  {
   "cell_type": "code",
   "execution_count": 29,
   "id": "revised-fancy",
   "metadata": {},
   "outputs": [],
   "source": [
    "import matplotlib.pyplot as plt  # "
   ]
  },
  {
   "cell_type": "code",
   "execution_count": 31,
   "id": "spread-invalid",
   "metadata": {},
   "outputs": [],
   "source": [
    "x = np.linspace(0, 6.28, 100)\n",
    "y = np.sin(x)"
   ]
  },
  {
   "cell_type": "code",
   "execution_count": 32,
   "id": "sensitive-jimmy",
   "metadata": {},
   "outputs": [
    {
     "data": {
      "image/png": "[encoded data removed]",
      "text/plain": [
       "<Figure size 432x288 with 1 Axes>"
      ]
     },
     "metadata": {
      "needs_background": "light"
     },
     "output_type": "display_data"
    }
   ],
   "source": [
    "plt.plot(x,y, label='sin(x)')\n",
    "plt.title('Super quick intro to numpy and pyplot'); plt.xlabel('x'); plt.ylabel('sin(x)');\n",
    "plt.legend()\n",
    "plt.show()"
   ]
  },
  {
   "cell_type": "markdown",
   "id": "separated-movement",
   "metadata": {},
   "source": [
    "### Functions"
   ]
  },
  {
   "cell_type": "code",
   "execution_count": null,
   "id": "based-mongolia",
   "metadata": {},
   "outputs": [],
   "source": []
  }
 ],
 "metadata": {
  "kernelspec": {
   "display_name": "Python 3",
   "language": "python",
   "name": "python3"
  },
  "language_info": {
   "codemirror_mode": {
    "name": "ipython",
    "version": 3
   },
   "file_extension": ".py",
   "mimetype": "text/x-python",
   "name": "python",
   "nbconvert_exporter": "python",
   "pygments_lexer": "ipython3",
   "version": "3.8.5"
  }
 },
 "nbformat": 4,
 "nbformat_minor": 5
}
