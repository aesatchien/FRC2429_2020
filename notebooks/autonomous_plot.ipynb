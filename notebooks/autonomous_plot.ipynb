{
 "cells": [
  {
   "cell_type": "markdown",
   "metadata": {},
   "source": [
    "### Code to plot the most recent autonomous motion profile\n",
    "#### 12/28/2019 CJH"
   ]
  },
  {
   "cell_type": "code",
   "execution_count": 3,
   "metadata": {},
   "outputs": [],
   "source": [
    "import sys\n",
    "import time\n",
    "from networktables import NetworkTables\n",
    "import pandas as pd\n",
    "import matplotlib.pyplot as plt\n",
    "import numpy as np"
   ]
  },
  {
   "cell_type": "code",
   "execution_count": 4,
   "metadata": {},
   "outputs": [
    {
     "data": {
      "text/plain": [
       "False"
      ]
     },
     "execution_count": 4,
     "metadata": {},
     "output_type": "execute_result"
    }
   ],
   "source": [
    "ip = '172.22.11.2'\n",
    "ip = 'roboRIO-2429-FRC.local'\n",
    "NetworkTables.initialize(server=ip)"
   ]
  },
  {
   "cell_type": "code",
   "execution_count": 5,
   "metadata": {},
   "outputs": [],
   "source": [
    "def valueChanged(table, key, value, isNew):\n",
    "    print(\"valueChanged: key: '%s'; value: %s; isNew: %s\" % (key, value, isNew))\n",
    "def connectionListener(connected, info):\n",
    "    print(info, \"; Connected=%s\" % connected)"
   ]
  },
  {
   "cell_type": "code",
   "execution_count": 6,
   "metadata": {},
   "outputs": [],
   "source": [
    "NetworkTables.addConnectionListener(connectionListener, immediateNotify=True)"
   ]
  },
  {
   "cell_type": "code",
   "execution_count": 7,
   "metadata": {},
   "outputs": [],
   "source": [
    "sd = NetworkTables.getTable(\"SmartDashboard\")"
   ]
  },
  {
   "cell_type": "code",
   "execution_count": 8,
   "metadata": {},
   "outputs": [],
   "source": [
    "def get_data():\n",
    "    # this was a lot simpler but stupid network tables can only take 256 values per array\n",
    "    data_time = np.array(sd.getNumberArray('telemetry_time',0))\n",
    "    data_position = np.array(sd.getNumberArray('telemetry_position',0))\n",
    "    data_velocity = np.array(sd.getNumberArray('telemetry_velocity',0))\n",
    "    data_current = np.array(sd.getNumberArray('telemetry_current',0))\n",
    "    data_output = np.array(sd.getNumberArray('telemetry_output',0))\n",
    "    data = np.column_stack((data_time,data_position,data_velocity,data_current,data_output))\n",
    "    df = pd.DataFrame(data, columns =['time','position', 'velocity', 'current', 'output']).round(3)\n",
    "    return df"
   ]
  },
  {
   "cell_type": "code",
   "execution_count": 9,
   "metadata": {},
   "outputs": [],
   "source": [
    "def plot_df(df):\n",
    "# multiple line plot\n",
    "    save = False\n",
    "    markersize = 3\n",
    "    linewidth = 1.2\n",
    "    colors=['blue', 'orange', 'green', 'red']\n",
    "    label = \"Mapping Smart Motion Profile on SparkMax\"\n",
    "    plt.figure(num=None, figsize=(10,6),dpi=100)\n",
    "    for i in range(3):\n",
    "        plt.plot( 'time', df.columns[i+1], data=df, marker='o', markerfacecolor=colors[i], markersize=markersize, color=colors[i], linewidth=1)\n",
    "    #plt.legend()\n",
    "    plt.legend(loc='center left', bbox_to_anchor=(1, 0.5))\n",
    "    #plt.ylim(-1.1,1.1)\n",
    "    plt.title(label)\n",
    "    plt.xlabel('time (s)')\n",
    "    plt.ylabel('inches, rpm/10, amps')\n",
    "    if save:\n",
    "        plt.ioff()\n",
    "        plt.savefig(fname)\n",
    "        plt.close()\n",
    "    plt.show()"
   ]
  },
  {
   "cell_type": "code",
   "execution_count": 10,
   "metadata": {},
   "outputs": [],
   "source": [
    "def plot_df2(df):\n",
    "    # Make two dual-axis plots with the relevant information\n",
    "    save = False\n",
    "    markersize = 4\n",
    "    linewidth = 1.2\n",
    "    colors=['orange', 'blue', 'green', 'red','orange']\n",
    "    label = \"Mapping Smart Motion Profile on SparkMax\"\n",
    "\n",
    "    fig, ax1 = plt.subplots(figsize=(8,8),dpi=100)\n",
    "    ax1=plt.subplot(211)\n",
    "    index = 1\n",
    "    #ax1.set_xlabel('time (s)')\n",
    "    ax1.set_ylabel(df.columns[index], color=colors[index])\n",
    "    ax1.plot('time', df.columns[index], data=df, color=colors[index], marker='o', markersize=markersize)\n",
    "    ax1.tick_params(axis='y', labelcolor=colors[index])\n",
    "    index = 2\n",
    "    ax2 = ax1.twinx()  # instantiate a second axes that shares the same x-axis\n",
    "    ax2.set_ylabel(df.columns[index], color=colors[index])  # we already handled the x-label with ax1\n",
    "    ax2.plot('time', df.columns[index], data=df, color=colors[index], marker='o', markersize=markersize)\n",
    "    ax2.tick_params(axis='y', labelcolor=colors[index])\n",
    "    plt.title(label)\n",
    "    \n",
    "    ax3=plt.subplot(212)\n",
    "    index = 3\n",
    "    ax3.set_xlabel('time (s)')\n",
    "    ax3.set_ylabel(df.columns[index], color=colors[index])\n",
    "    ax3.plot('time', df.columns[index], data=df, color=colors[index], marker='o', markersize=markersize)\n",
    "    ax3.tick_params(axis='y', labelcolor=colors[index])\n",
    "    index = 4\n",
    "    ax4 = ax3.twinx()  # instantiate a second axes that shares the same x-axis\n",
    "    ax4.set_ylabel(df.columns[index], color=colors[index])  # we already handled the x-label with ax1\n",
    "    ax4.plot('time', df.columns[index], data=df, color=colors[index], marker='o', markersize=markersize)\n",
    "    ax4.tick_params(axis='y', labelcolor=colors[index])\n",
    "    \n",
    "    fig.tight_layout()  # otherwise the right y-label is slightly clipped\n",
    "    if save:\n",
    "        plt.ioff()\n",
    "        plt.savefig(fname)\n",
    "        plt.close()\n",
    "    plt.show()"
   ]
  },
  {
   "cell_type": "code",
   "execution_count": 13,
   "metadata": {},
   "outputs": [
    {
     "data": {
      "image/png": "[encoded data removed]",
      "text/plain": [
       "<Figure size 800x800 with 4 Axes>"
      ]
     },
     "metadata": {},
     "output_type": "display_data"
    }
   ],
   "source": [
    "df=get_data()\n",
    "plot_df2(df)"
   ]
  },
  {
   "cell_type": "code",
   "execution_count": 10,
   "metadata": {},
   "outputs": [
    {
     "name": "stderr",
     "output_type": "stream",
     "text": [
      "C:\\Users\\2429F\\Miniconda3\\lib\\site-packages\\pandas\\plotting\\_matplotlib\\core.py:1085: UserWarning: Attempting to set identical left == right == 0.0 results in singular transformations; automatically expanding.\n",
      "  ax.set_xlim(left, right)\n"
     ]
    },
    {
     "data": {
      "text/plain": [
       "<matplotlib.axes._subplots.AxesSubplot at 0x1deb25227c8>"
      ]
     },
     "execution_count": 10,
     "metadata": {},
     "output_type": "execute_result"
    },
    {
     "data": {
      "image/png": "[encoded data removed]",
      "text/plain": [
       "<Figure size 432x288 with 1 Axes>"
      ]
     },
     "metadata": {
      "needs_background": "light"
     },
     "output_type": "display_data"
    }
   ],
   "source": [
    "df.plot()"
   ]
  },
  {
   "cell_type": "code",
   "execution_count": 11,
   "metadata": {},
   "outputs": [
    {
     "data": {
      "text/html": [
       "<div>\n",
       "<style scoped>\n",
       "    .dataframe tbody tr th:only-of-type {\n",
       "        vertical-align: middle;\n",
       "    }\n",
       "\n",
       "    .dataframe tbody tr th {\n",
       "        vertical-align: top;\n",
       "    }\n",
       "\n",
       "    .dataframe thead th {\n",
       "        text-align: right;\n",
       "    }\n",
       "</style>\n",
       "<table border=\"1\" class=\"dataframe\">\n",
       "  <thead>\n",
       "    <tr style=\"text-align: right;\">\n",
       "      <th></th>\n",
       "      <th>time</th>\n",
       "      <th>position</th>\n",
       "      <th>velocity</th>\n",
       "      <th>current</th>\n",
       "      <th>output</th>\n",
       "    </tr>\n",
       "  </thead>\n",
       "  <tbody>\n",
       "    <tr>\n",
       "      <th>count</th>\n",
       "      <td>0.0</td>\n",
       "      <td>0.0</td>\n",
       "      <td>0.0</td>\n",
       "      <td>0.0</td>\n",
       "      <td>0.0</td>\n",
       "    </tr>\n",
       "    <tr>\n",
       "      <th>mean</th>\n",
       "      <td>NaN</td>\n",
       "      <td>NaN</td>\n",
       "      <td>NaN</td>\n",
       "      <td>NaN</td>\n",
       "      <td>NaN</td>\n",
       "    </tr>\n",
       "    <tr>\n",
       "      <th>std</th>\n",
       "      <td>NaN</td>\n",
       "      <td>NaN</td>\n",
       "      <td>NaN</td>\n",
       "      <td>NaN</td>\n",
       "      <td>NaN</td>\n",
       "    </tr>\n",
       "    <tr>\n",
       "      <th>min</th>\n",
       "      <td>NaN</td>\n",
       "      <td>NaN</td>\n",
       "      <td>NaN</td>\n",
       "      <td>NaN</td>\n",
       "      <td>NaN</td>\n",
       "    </tr>\n",
       "    <tr>\n",
       "      <th>25%</th>\n",
       "      <td>NaN</td>\n",
       "      <td>NaN</td>\n",
       "      <td>NaN</td>\n",
       "      <td>NaN</td>\n",
       "      <td>NaN</td>\n",
       "    </tr>\n",
       "    <tr>\n",
       "      <th>50%</th>\n",
       "      <td>NaN</td>\n",
       "      <td>NaN</td>\n",
       "      <td>NaN</td>\n",
       "      <td>NaN</td>\n",
       "      <td>NaN</td>\n",
       "    </tr>\n",
       "    <tr>\n",
       "      <th>75%</th>\n",
       "      <td>NaN</td>\n",
       "      <td>NaN</td>\n",
       "      <td>NaN</td>\n",
       "      <td>NaN</td>\n",
       "      <td>NaN</td>\n",
       "    </tr>\n",
       "    <tr>\n",
       "      <th>max</th>\n",
       "      <td>NaN</td>\n",
       "      <td>NaN</td>\n",
       "      <td>NaN</td>\n",
       "      <td>NaN</td>\n",
       "      <td>NaN</td>\n",
       "    </tr>\n",
       "  </tbody>\n",
       "</table>\n",
       "</div>"
      ],
      "text/plain": [
       "       time  position  velocity  current  output\n",
       "count   0.0       0.0       0.0      0.0     0.0\n",
       "mean    NaN       NaN       NaN      NaN     NaN\n",
       "std     NaN       NaN       NaN      NaN     NaN\n",
       "min     NaN       NaN       NaN      NaN     NaN\n",
       "25%     NaN       NaN       NaN      NaN     NaN\n",
       "50%     NaN       NaN       NaN      NaN     NaN\n",
       "75%     NaN       NaN       NaN      NaN     NaN\n",
       "max     NaN       NaN       NaN      NaN     NaN"
      ]
     },
     "execution_count": 11,
     "metadata": {},
     "output_type": "execute_result"
    },
    {
     "name": "stdout",
     "output_type": "stream",
     "text": [
      "ConnectionInfo(remote_id='Robot', remote_ip='roboRIO-2429-FRC.local', remote_port=1735, last_update=0, protocol_version=768) ; Connected=True\n"
     ]
    }
   ],
   "source": [
    "df.diff().describe()"
   ]
  },
  {
   "cell_type": "code",
   "execution_count": null,
   "metadata": {},
   "outputs": [],
   "source": []
  }
 ],
 "metadata": {
  "kernelspec": {
   "display_name": "Python 3",
   "language": "python",
   "name": "python3"
  },
  "language_info": {
   "codemirror_mode": {
    "name": "ipython",
    "version": 3
   },
   "file_extension": ".py",
   "mimetype": "text/x-python",
   "name": "python",
   "nbconvert_exporter": "python",
   "pygments_lexer": "ipython3",
   "version": "3.7.4"
  }
 },
 "nbformat": 4,
 "nbformat_minor": 4
}
